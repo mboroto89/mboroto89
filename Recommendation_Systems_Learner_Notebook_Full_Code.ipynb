{
  "cells": [
    {
      "cell_type": "markdown",
      "metadata": {
        "id": "view-in-github",
        "colab_type": "text"
      },
      "source": [
        "<a href=\"https://colab.research.google.com/github/mboroto89/mboroto89/blob/main/Recommendation_Systems_Learner_Notebook_Full_Code.ipynb\" target=\"_parent\"><img src=\"https://colab.research.google.com/assets/colab-badge.svg\" alt=\"Open In Colab\"/></a>"
      ]
    },
    {
      "cell_type": "markdown",
      "metadata": {
        "id": "pXQzH0nC5JtP"
      },
      "source": [
        "# **Project: Amazon Product Recommendation System**\n",
        "\n",
        "# **Marks: 40**\n",
        "\n",
        "\n",
        "Welcome to the project on Recommendation Systems. We will work with the Amazon product reviews dataset for this project. The dataset contains ratings of different electronic products. It does not include information about the products or reviews to avoid bias while building the model.\n",
        "\n",
        "--------------\n",
        "## **Context:**\n",
        "--------------\n",
        "\n",
        "Today, information is growing exponentially with volume, velocity and variety throughout the globe. This has lead to information overload, and too many choices for the consumer of any business. It represents a real dilemma for these consumers and they often turn to denial. Recommender Systems are one of the best tools that help recommending products to consumers while they are browsing online. Providing personalized recommendations which is most relevant for the user is what's most likely to keep them engaged and help business.\n",
        "\n",
        "E-commerce websites like Amazon, Walmart, Target and Etsy use different recommendation models to provide personalized suggestions to different users. These companies spend millions of dollars to come up with algorithmic techniques that can provide personalized recommendations to their users.\n",
        "\n",
        "Amazon, for example, is well-known for its accurate selection of recommendations in its online site. Amazon's recommendation system is capable of intelligently analyzing and predicting customers' shopping preferences in order to offer them a list of recommended products. Amazon's recommendation algorithm is therefore a key element in using AI to improve the personalization of its website. For example, one of the baseline recommendation models that Amazon uses is item-to-item collaborative filtering, which scales to massive data sets and produces high-quality recommendations in real-time.\n",
        "\n",
        "----------------\n",
        "## **Objective:**\n",
        "----------------\n",
        "\n",
        "You are a Data Science Manager at Amazon, and have been given the task of building a recommendation system to recommend products to customers based on their previous ratings for other products. You have a collection of labeled data of Amazon reviews of products. The goal is to extract meaningful insights from the data and build a recommendation system that helps in recommending products to online consumers.\n",
        "\n",
        "-----------------------------\n",
        "## **Dataset:**\n",
        "-----------------------------\n",
        "\n",
        "The Amazon dataset contains the following attributes:\n",
        "\n",
        "- **userId:** Every user identified with a unique id\n",
        "- **productId:** Every product identified with a unique id\n",
        "- **Rating:** The rating of the corresponding product by the corresponding user\n",
        "- **timestamp:** Time of the rating. We **will not use this column** to solve the current problem"
      ]
    },
    {
      "cell_type": "markdown",
      "metadata": {
        "id": "nmdPxJ2Q7W7p"
      },
      "source": [
        "**Note:** The code has some user defined functions that will be usefull while making recommendations and measure model performance, you can use these functions or can create your own functions."
      ]
    },
    {
      "cell_type": "markdown",
      "metadata": {
        "id": "UoRfgjS2yekq"
      },
      "source": [
        "Sometimes, the installation of the surprise library, which is used to build recommendation systems, faces issues in Jupyter. To avoid any issues, it is advised to use **Google Colab** for this project.\n",
        "\n",
        "Let's start by mounting the Google drive on Colab."
      ]
    },
    {
      "cell_type": "code",
      "execution_count": null,
      "metadata": {
        "id": "GZ0YAszcT4zK",
        "colab": {
          "base_uri": "https://localhost:8080/"
        },
        "outputId": "428a821d-84ff-4904-a0a2-5c94cfef2928"
      },
      "outputs": [
        {
          "output_type": "stream",
          "name": "stdout",
          "text": [
            "Drive already mounted at /content/drive; to attempt to forcibly remount, call drive.mount(\"/content/drive\", force_remount=True).\n"
          ]
        }
      ],
      "source": [
        "from google.colab import drive\n",
        "drive.mount('/content/drive')"
      ]
    },
    {
      "cell_type": "markdown",
      "metadata": {
        "id": "0Ibk07-Cyekt"
      },
      "source": [
        "**Installing surprise library**"
      ]
    },
    {
      "cell_type": "code",
      "execution_count": null,
      "metadata": {
        "id": "05HQoiZYlsbB",
        "colab": {
          "base_uri": "https://localhost:8080/"
        },
        "outputId": "620af4e1-1a89-4d56-f3e8-99d5370c2337"
      },
      "outputs": [
        {
          "output_type": "stream",
          "name": "stdout",
          "text": [
            "Requirement already satisfied: scikit-surprise in /usr/local/lib/python3.10/dist-packages (1.1.3)\n",
            "Requirement already satisfied: joblib>=1.0.0 in /usr/local/lib/python3.10/dist-packages (from scikit-surprise) (1.3.2)\n",
            "Requirement already satisfied: numpy>=1.17.3 in /usr/local/lib/python3.10/dist-packages (from scikit-surprise) (1.23.5)\n",
            "Requirement already satisfied: scipy>=1.3.2 in /usr/local/lib/python3.10/dist-packages (from scikit-surprise) (1.11.2)\n"
          ]
        }
      ],
      "source": [
        "pip install scikit-surprise"
      ]
    },
    {
      "cell_type": "markdown",
      "metadata": {
        "id": "7fIt4jcFIm76"
      },
      "source": [
        "## **Importing the necessary libraries and overview of the dataset**"
      ]
    },
    {
      "cell_type": "markdown",
      "metadata": {
        "id": "NrXYJAv95JtP"
      },
      "source": [
        "### **Loading the data**\n",
        "- Import the Dataset\n",
        "- Add column names ['user_id', 'prod_id', 'rating', 'timestamp']\n",
        "- Drop the column timestamp\n",
        "- Copy the data to another DataFrame called **df**"
      ]
    },
    {
      "cell_type": "code",
      "execution_count": null,
      "metadata": {
        "id": "JGb-Hk1B5JtP",
        "colab": {
          "base_uri": "https://localhost:8080/",
          "height": 206
        },
        "outputId": "8aff8281-d307-477a-f027-436da57053ce"
      },
      "outputs": [
        {
          "output_type": "execute_result",
          "data": {
            "text/plain": [
              "          user_id     prod_id  rating\n",
              "0   AKM1MP6P0OYPR  0132793040     5.0\n",
              "1  A2CX7LUOHB2NDG  0321732944     5.0\n",
              "2  A2NWSAGRHCP8N5  0439886341     1.0\n",
              "3  A2WNBOD3WNDNKT  0439886341     3.0\n",
              "4  A1GI0U4ZRJA8WN  0439886341     1.0"
            ],
            "text/html": [
              "\n",
              "  <div id=\"df-ec5556de-3f0a-43ef-858b-39f979c12061\" class=\"colab-df-container\">\n",
              "    <div>\n",
              "<style scoped>\n",
              "    .dataframe tbody tr th:only-of-type {\n",
              "        vertical-align: middle;\n",
              "    }\n",
              "\n",
              "    .dataframe tbody tr th {\n",
              "        vertical-align: top;\n",
              "    }\n",
              "\n",
              "    .dataframe thead th {\n",
              "        text-align: right;\n",
              "    }\n",
              "</style>\n",
              "<table border=\"1\" class=\"dataframe\">\n",
              "  <thead>\n",
              "    <tr style=\"text-align: right;\">\n",
              "      <th></th>\n",
              "      <th>user_id</th>\n",
              "      <th>prod_id</th>\n",
              "      <th>rating</th>\n",
              "    </tr>\n",
              "  </thead>\n",
              "  <tbody>\n",
              "    <tr>\n",
              "      <th>0</th>\n",
              "      <td>AKM1MP6P0OYPR</td>\n",
              "      <td>0132793040</td>\n",
              "      <td>5.0</td>\n",
              "    </tr>\n",
              "    <tr>\n",
              "      <th>1</th>\n",
              "      <td>A2CX7LUOHB2NDG</td>\n",
              "      <td>0321732944</td>\n",
              "      <td>5.0</td>\n",
              "    </tr>\n",
              "    <tr>\n",
              "      <th>2</th>\n",
              "      <td>A2NWSAGRHCP8N5</td>\n",
              "      <td>0439886341</td>\n",
              "      <td>1.0</td>\n",
              "    </tr>\n",
              "    <tr>\n",
              "      <th>3</th>\n",
              "      <td>A2WNBOD3WNDNKT</td>\n",
              "      <td>0439886341</td>\n",
              "      <td>3.0</td>\n",
              "    </tr>\n",
              "    <tr>\n",
              "      <th>4</th>\n",
              "      <td>A1GI0U4ZRJA8WN</td>\n",
              "      <td>0439886341</td>\n",
              "      <td>1.0</td>\n",
              "    </tr>\n",
              "  </tbody>\n",
              "</table>\n",
              "</div>\n",
              "    <div class=\"colab-df-buttons\">\n",
              "\n",
              "  <div class=\"colab-df-container\">\n",
              "    <button class=\"colab-df-convert\" onclick=\"convertToInteractive('df-ec5556de-3f0a-43ef-858b-39f979c12061')\"\n",
              "            title=\"Convert this dataframe to an interactive table.\"\n",
              "            style=\"display:none;\">\n",
              "\n",
              "  <svg xmlns=\"http://www.w3.org/2000/svg\" height=\"24px\" viewBox=\"0 -960 960 960\">\n",
              "    <path d=\"M120-120v-720h720v720H120Zm60-500h600v-160H180v160Zm220 220h160v-160H400v160Zm0 220h160v-160H400v160ZM180-400h160v-160H180v160Zm440 0h160v-160H620v160ZM180-180h160v-160H180v160Zm440 0h160v-160H620v160Z\"/>\n",
              "  </svg>\n",
              "    </button>\n",
              "\n",
              "  <style>\n",
              "    .colab-df-container {\n",
              "      display:flex;\n",
              "      gap: 12px;\n",
              "    }\n",
              "\n",
              "    .colab-df-convert {\n",
              "      background-color: #E8F0FE;\n",
              "      border: none;\n",
              "      border-radius: 50%;\n",
              "      cursor: pointer;\n",
              "      display: none;\n",
              "      fill: #1967D2;\n",
              "      height: 32px;\n",
              "      padding: 0 0 0 0;\n",
              "      width: 32px;\n",
              "    }\n",
              "\n",
              "    .colab-df-convert:hover {\n",
              "      background-color: #E2EBFA;\n",
              "      box-shadow: 0px 1px 2px rgba(60, 64, 67, 0.3), 0px 1px 3px 1px rgba(60, 64, 67, 0.15);\n",
              "      fill: #174EA6;\n",
              "    }\n",
              "\n",
              "    .colab-df-buttons div {\n",
              "      margin-bottom: 4px;\n",
              "    }\n",
              "\n",
              "    [theme=dark] .colab-df-convert {\n",
              "      background-color: #3B4455;\n",
              "      fill: #D2E3FC;\n",
              "    }\n",
              "\n",
              "    [theme=dark] .colab-df-convert:hover {\n",
              "      background-color: #434B5C;\n",
              "      box-shadow: 0px 1px 3px 1px rgba(0, 0, 0, 0.15);\n",
              "      filter: drop-shadow(0px 1px 2px rgba(0, 0, 0, 0.3));\n",
              "      fill: #FFFFFF;\n",
              "    }\n",
              "  </style>\n",
              "\n",
              "    <script>\n",
              "      const buttonEl =\n",
              "        document.querySelector('#df-ec5556de-3f0a-43ef-858b-39f979c12061 button.colab-df-convert');\n",
              "      buttonEl.style.display =\n",
              "        google.colab.kernel.accessAllowed ? 'block' : 'none';\n",
              "\n",
              "      async function convertToInteractive(key) {\n",
              "        const element = document.querySelector('#df-ec5556de-3f0a-43ef-858b-39f979c12061');\n",
              "        const dataTable =\n",
              "          await google.colab.kernel.invokeFunction('convertToInteractive',\n",
              "                                                    [key], {});\n",
              "        if (!dataTable) return;\n",
              "\n",
              "        const docLinkHtml = 'Like what you see? Visit the ' +\n",
              "          '<a target=\"_blank\" href=https://colab.research.google.com/notebooks/data_table.ipynb>data table notebook</a>'\n",
              "          + ' to learn more about interactive tables.';\n",
              "        element.innerHTML = '';\n",
              "        dataTable['output_type'] = 'display_data';\n",
              "        await google.colab.output.renderOutput(dataTable, element);\n",
              "        const docLink = document.createElement('div');\n",
              "        docLink.innerHTML = docLinkHtml;\n",
              "        element.appendChild(docLink);\n",
              "      }\n",
              "    </script>\n",
              "  </div>\n",
              "\n",
              "\n",
              "<div id=\"df-ea3afd1c-1042-4a40-a4fd-5653b9050644\">\n",
              "  <button class=\"colab-df-quickchart\" onclick=\"quickchart('df-ea3afd1c-1042-4a40-a4fd-5653b9050644')\"\n",
              "            title=\"Suggest charts.\"\n",
              "            style=\"display:none;\">\n",
              "\n",
              "<svg xmlns=\"http://www.w3.org/2000/svg\" height=\"24px\"viewBox=\"0 0 24 24\"\n",
              "     width=\"24px\">\n",
              "    <g>\n",
              "        <path d=\"M19 3H5c-1.1 0-2 .9-2 2v14c0 1.1.9 2 2 2h14c1.1 0 2-.9 2-2V5c0-1.1-.9-2-2-2zM9 17H7v-7h2v7zm4 0h-2V7h2v10zm4 0h-2v-4h2v4z\"/>\n",
              "    </g>\n",
              "</svg>\n",
              "  </button>\n",
              "\n",
              "<style>\n",
              "  .colab-df-quickchart {\n",
              "      --bg-color: #E8F0FE;\n",
              "      --fill-color: #1967D2;\n",
              "      --hover-bg-color: #E2EBFA;\n",
              "      --hover-fill-color: #174EA6;\n",
              "      --disabled-fill-color: #AAA;\n",
              "      --disabled-bg-color: #DDD;\n",
              "  }\n",
              "\n",
              "  [theme=dark] .colab-df-quickchart {\n",
              "      --bg-color: #3B4455;\n",
              "      --fill-color: #D2E3FC;\n",
              "      --hover-bg-color: #434B5C;\n",
              "      --hover-fill-color: #FFFFFF;\n",
              "      --disabled-bg-color: #3B4455;\n",
              "      --disabled-fill-color: #666;\n",
              "  }\n",
              "\n",
              "  .colab-df-quickchart {\n",
              "    background-color: var(--bg-color);\n",
              "    border: none;\n",
              "    border-radius: 50%;\n",
              "    cursor: pointer;\n",
              "    display: none;\n",
              "    fill: var(--fill-color);\n",
              "    height: 32px;\n",
              "    padding: 0;\n",
              "    width: 32px;\n",
              "  }\n",
              "\n",
              "  .colab-df-quickchart:hover {\n",
              "    background-color: var(--hover-bg-color);\n",
              "    box-shadow: 0 1px 2px rgba(60, 64, 67, 0.3), 0 1px 3px 1px rgba(60, 64, 67, 0.15);\n",
              "    fill: var(--button-hover-fill-color);\n",
              "  }\n",
              "\n",
              "  .colab-df-quickchart-complete:disabled,\n",
              "  .colab-df-quickchart-complete:disabled:hover {\n",
              "    background-color: var(--disabled-bg-color);\n",
              "    fill: var(--disabled-fill-color);\n",
              "    box-shadow: none;\n",
              "  }\n",
              "\n",
              "  .colab-df-spinner {\n",
              "    border: 2px solid var(--fill-color);\n",
              "    border-color: transparent;\n",
              "    border-bottom-color: var(--fill-color);\n",
              "    animation:\n",
              "      spin 1s steps(1) infinite;\n",
              "  }\n",
              "\n",
              "  @keyframes spin {\n",
              "    0% {\n",
              "      border-color: transparent;\n",
              "      border-bottom-color: var(--fill-color);\n",
              "      border-left-color: var(--fill-color);\n",
              "    }\n",
              "    20% {\n",
              "      border-color: transparent;\n",
              "      border-left-color: var(--fill-color);\n",
              "      border-top-color: var(--fill-color);\n",
              "    }\n",
              "    30% {\n",
              "      border-color: transparent;\n",
              "      border-left-color: var(--fill-color);\n",
              "      border-top-color: var(--fill-color);\n",
              "      border-right-color: var(--fill-color);\n",
              "    }\n",
              "    40% {\n",
              "      border-color: transparent;\n",
              "      border-right-color: var(--fill-color);\n",
              "      border-top-color: var(--fill-color);\n",
              "    }\n",
              "    60% {\n",
              "      border-color: transparent;\n",
              "      border-right-color: var(--fill-color);\n",
              "    }\n",
              "    80% {\n",
              "      border-color: transparent;\n",
              "      border-right-color: var(--fill-color);\n",
              "      border-bottom-color: var(--fill-color);\n",
              "    }\n",
              "    90% {\n",
              "      border-color: transparent;\n",
              "      border-bottom-color: var(--fill-color);\n",
              "    }\n",
              "  }\n",
              "</style>\n",
              "\n",
              "  <script>\n",
              "    async function quickchart(key) {\n",
              "      const quickchartButtonEl =\n",
              "        document.querySelector('#' + key + ' button');\n",
              "      quickchartButtonEl.disabled = true;  // To prevent multiple clicks.\n",
              "      quickchartButtonEl.classList.add('colab-df-spinner');\n",
              "      try {\n",
              "        const charts = await google.colab.kernel.invokeFunction(\n",
              "            'suggestCharts', [key], {});\n",
              "      } catch (error) {\n",
              "        console.error('Error during call to suggestCharts:', error);\n",
              "      }\n",
              "      quickchartButtonEl.classList.remove('colab-df-spinner');\n",
              "      quickchartButtonEl.classList.add('colab-df-quickchart-complete');\n",
              "    }\n",
              "    (() => {\n",
              "      let quickchartButtonEl =\n",
              "        document.querySelector('#df-ea3afd1c-1042-4a40-a4fd-5653b9050644 button');\n",
              "      quickchartButtonEl.style.display =\n",
              "        google.colab.kernel.accessAllowed ? 'block' : 'none';\n",
              "    })();\n",
              "  </script>\n",
              "</div>\n",
              "    </div>\n",
              "  </div>\n"
            ]
          },
          "metadata": {},
          "execution_count": 9
        }
      ],
      "source": [
        "# Importing the necessary library and loading the dataset\n",
        "import pandas as pd\n",
        "\n",
        "data = pd.read_csv('/content/drive/MyDrive/Recommendation Systems/ratings_Electronics.csv', header=None, names=['user_id', 'prod_id', 'rating', 'timestamp'])\n",
        "\n",
        "# Drop the 'timestamp' column\n",
        "data.drop('timestamp', axis=1, inplace=True)\n",
        "\n",
        "# Copy the data to another DataFrame called df\n",
        "df = data.copy()\n",
        "\n",
        "df.head()"
      ]
    },
    {
      "cell_type": "markdown",
      "metadata": {
        "id": "OVQnSG5g_9uX"
      },
      "source": [
        "**As this dataset is very large and has 7,824,482 observations, it is not computationally possible to build a model using this. Moreover, many users have only rated a few products and also some products are rated by very few users. Hence, we can reduce the dataset by considering certain logical assumptions.**\n",
        "\n",
        "Here, we will be taking users who have given at least 50 ratings, and the products that have at least 5 ratings, as when we shop online we prefer to have some number of ratings of a product."
      ]
    },
    {
      "cell_type": "code",
      "execution_count": null,
      "metadata": {
        "id": "4yt9W7Q32EQQ"
      },
      "outputs": [],
      "source": [
        "# Get the column containing the users\n",
        "users = df.user_id\n",
        "\n",
        "# Create a dictionary from users to their number of ratings\n",
        "ratings_count = dict()\n",
        "\n",
        "for user in users:\n",
        "\n",
        "    # If we already have the user, just add 1 to their rating count\n",
        "    if user in ratings_count:\n",
        "        ratings_count[user] += 1\n",
        "\n",
        "    # Otherwise, set their rating count to 1\n",
        "    else:\n",
        "        ratings_count[user] = 1"
      ]
    },
    {
      "cell_type": "code",
      "execution_count": null,
      "metadata": {
        "id": "19XB60dq2EQR"
      },
      "outputs": [],
      "source": [
        "# We want our users to have at least 50 ratings to be considered\n",
        "RATINGS_CUTOFF = 50\n",
        "\n",
        "remove_users = []\n",
        "\n",
        "for user, num_ratings in ratings_count.items():\n",
        "    if num_ratings < RATINGS_CUTOFF:\n",
        "        remove_users.append(user)\n",
        "\n",
        "df = df.loc[ ~ df.user_id.isin(remove_users)]"
      ]
    },
    {
      "cell_type": "code",
      "execution_count": null,
      "metadata": {
        "id": "33UzK1D82EQS"
      },
      "outputs": [],
      "source": [
        "# Get the column containing the products\n",
        "prods = df.prod_id\n",
        "\n",
        "# Create a dictionary from products to their number of ratings\n",
        "ratings_count = dict()\n",
        "\n",
        "for prod in prods:\n",
        "\n",
        "    # If we already have the product, just add 1 to its rating count\n",
        "    if prod in ratings_count:\n",
        "        ratings_count[prod] += 1\n",
        "\n",
        "    # Otherwise, set their rating count to 1\n",
        "    else:\n",
        "        ratings_count[prod] = 1"
      ]
    },
    {
      "cell_type": "code",
      "execution_count": null,
      "metadata": {
        "id": "u6YE-lUp2EQT"
      },
      "outputs": [],
      "source": [
        "# We want our item to have at least 5 ratings to be considered\n",
        "RATINGS_CUTOFF = 5\n",
        "\n",
        "remove_users = []\n",
        "\n",
        "for user, num_ratings in ratings_count.items():\n",
        "    if num_ratings < RATINGS_CUTOFF:\n",
        "        remove_users.append(user)\n",
        "\n",
        "df_final = df.loc[~ df.prod_id.isin(remove_users)]"
      ]
    },
    {
      "cell_type": "code",
      "execution_count": null,
      "metadata": {
        "id": "aL1JZ00o5JtQ",
        "colab": {
          "base_uri": "https://localhost:8080/",
          "height": 206
        },
        "outputId": "7aa8293e-7ea5-42db-f777-fe5f54f5fecb"
      },
      "outputs": [
        {
          "output_type": "execute_result",
          "data": {
            "text/plain": [
              "             user_id     prod_id  rating\n",
              "1310  A3LDPF5FMB782Z  1400501466     5.0\n",
              "1322  A1A5KUIIIHFF4U  1400501466     1.0\n",
              "1335  A2XIOXRRYX0KZY  1400501466     3.0\n",
              "1451   AW3LX47IHPFRL  1400501466     5.0\n",
              "1456  A1E3OB6QMBKRYZ  1400501466     1.0"
            ],
            "text/html": [
              "\n",
              "  <div id=\"df-922465dc-4c9e-4021-96af-5e19435f78e6\" class=\"colab-df-container\">\n",
              "    <div>\n",
              "<style scoped>\n",
              "    .dataframe tbody tr th:only-of-type {\n",
              "        vertical-align: middle;\n",
              "    }\n",
              "\n",
              "    .dataframe tbody tr th {\n",
              "        vertical-align: top;\n",
              "    }\n",
              "\n",
              "    .dataframe thead th {\n",
              "        text-align: right;\n",
              "    }\n",
              "</style>\n",
              "<table border=\"1\" class=\"dataframe\">\n",
              "  <thead>\n",
              "    <tr style=\"text-align: right;\">\n",
              "      <th></th>\n",
              "      <th>user_id</th>\n",
              "      <th>prod_id</th>\n",
              "      <th>rating</th>\n",
              "    </tr>\n",
              "  </thead>\n",
              "  <tbody>\n",
              "    <tr>\n",
              "      <th>1310</th>\n",
              "      <td>A3LDPF5FMB782Z</td>\n",
              "      <td>1400501466</td>\n",
              "      <td>5.0</td>\n",
              "    </tr>\n",
              "    <tr>\n",
              "      <th>1322</th>\n",
              "      <td>A1A5KUIIIHFF4U</td>\n",
              "      <td>1400501466</td>\n",
              "      <td>1.0</td>\n",
              "    </tr>\n",
              "    <tr>\n",
              "      <th>1335</th>\n",
              "      <td>A2XIOXRRYX0KZY</td>\n",
              "      <td>1400501466</td>\n",
              "      <td>3.0</td>\n",
              "    </tr>\n",
              "    <tr>\n",
              "      <th>1451</th>\n",
              "      <td>AW3LX47IHPFRL</td>\n",
              "      <td>1400501466</td>\n",
              "      <td>5.0</td>\n",
              "    </tr>\n",
              "    <tr>\n",
              "      <th>1456</th>\n",
              "      <td>A1E3OB6QMBKRYZ</td>\n",
              "      <td>1400501466</td>\n",
              "      <td>1.0</td>\n",
              "    </tr>\n",
              "  </tbody>\n",
              "</table>\n",
              "</div>\n",
              "    <div class=\"colab-df-buttons\">\n",
              "\n",
              "  <div class=\"colab-df-container\">\n",
              "    <button class=\"colab-df-convert\" onclick=\"convertToInteractive('df-922465dc-4c9e-4021-96af-5e19435f78e6')\"\n",
              "            title=\"Convert this dataframe to an interactive table.\"\n",
              "            style=\"display:none;\">\n",
              "\n",
              "  <svg xmlns=\"http://www.w3.org/2000/svg\" height=\"24px\" viewBox=\"0 -960 960 960\">\n",
              "    <path d=\"M120-120v-720h720v720H120Zm60-500h600v-160H180v160Zm220 220h160v-160H400v160Zm0 220h160v-160H400v160ZM180-400h160v-160H180v160Zm440 0h160v-160H620v160ZM180-180h160v-160H180v160Zm440 0h160v-160H620v160Z\"/>\n",
              "  </svg>\n",
              "    </button>\n",
              "\n",
              "  <style>\n",
              "    .colab-df-container {\n",
              "      display:flex;\n",
              "      gap: 12px;\n",
              "    }\n",
              "\n",
              "    .colab-df-convert {\n",
              "      background-color: #E8F0FE;\n",
              "      border: none;\n",
              "      border-radius: 50%;\n",
              "      cursor: pointer;\n",
              "      display: none;\n",
              "      fill: #1967D2;\n",
              "      height: 32px;\n",
              "      padding: 0 0 0 0;\n",
              "      width: 32px;\n",
              "    }\n",
              "\n",
              "    .colab-df-convert:hover {\n",
              "      background-color: #E2EBFA;\n",
              "      box-shadow: 0px 1px 2px rgba(60, 64, 67, 0.3), 0px 1px 3px 1px rgba(60, 64, 67, 0.15);\n",
              "      fill: #174EA6;\n",
              "    }\n",
              "\n",
              "    .colab-df-buttons div {\n",
              "      margin-bottom: 4px;\n",
              "    }\n",
              "\n",
              "    [theme=dark] .colab-df-convert {\n",
              "      background-color: #3B4455;\n",
              "      fill: #D2E3FC;\n",
              "    }\n",
              "\n",
              "    [theme=dark] .colab-df-convert:hover {\n",
              "      background-color: #434B5C;\n",
              "      box-shadow: 0px 1px 3px 1px rgba(0, 0, 0, 0.15);\n",
              "      filter: drop-shadow(0px 1px 2px rgba(0, 0, 0, 0.3));\n",
              "      fill: #FFFFFF;\n",
              "    }\n",
              "  </style>\n",
              "\n",
              "    <script>\n",
              "      const buttonEl =\n",
              "        document.querySelector('#df-922465dc-4c9e-4021-96af-5e19435f78e6 button.colab-df-convert');\n",
              "      buttonEl.style.display =\n",
              "        google.colab.kernel.accessAllowed ? 'block' : 'none';\n",
              "\n",
              "      async function convertToInteractive(key) {\n",
              "        const element = document.querySelector('#df-922465dc-4c9e-4021-96af-5e19435f78e6');\n",
              "        const dataTable =\n",
              "          await google.colab.kernel.invokeFunction('convertToInteractive',\n",
              "                                                    [key], {});\n",
              "        if (!dataTable) return;\n",
              "\n",
              "        const docLinkHtml = 'Like what you see? Visit the ' +\n",
              "          '<a target=\"_blank\" href=https://colab.research.google.com/notebooks/data_table.ipynb>data table notebook</a>'\n",
              "          + ' to learn more about interactive tables.';\n",
              "        element.innerHTML = '';\n",
              "        dataTable['output_type'] = 'display_data';\n",
              "        await google.colab.output.renderOutput(dataTable, element);\n",
              "        const docLink = document.createElement('div');\n",
              "        docLink.innerHTML = docLinkHtml;\n",
              "        element.appendChild(docLink);\n",
              "      }\n",
              "    </script>\n",
              "  </div>\n",
              "\n",
              "\n",
              "<div id=\"df-24a85ba3-a493-4ae4-9c36-5bedc908498d\">\n",
              "  <button class=\"colab-df-quickchart\" onclick=\"quickchart('df-24a85ba3-a493-4ae4-9c36-5bedc908498d')\"\n",
              "            title=\"Suggest charts.\"\n",
              "            style=\"display:none;\">\n",
              "\n",
              "<svg xmlns=\"http://www.w3.org/2000/svg\" height=\"24px\"viewBox=\"0 0 24 24\"\n",
              "     width=\"24px\">\n",
              "    <g>\n",
              "        <path d=\"M19 3H5c-1.1 0-2 .9-2 2v14c0 1.1.9 2 2 2h14c1.1 0 2-.9 2-2V5c0-1.1-.9-2-2-2zM9 17H7v-7h2v7zm4 0h-2V7h2v10zm4 0h-2v-4h2v4z\"/>\n",
              "    </g>\n",
              "</svg>\n",
              "  </button>\n",
              "\n",
              "<style>\n",
              "  .colab-df-quickchart {\n",
              "      --bg-color: #E8F0FE;\n",
              "      --fill-color: #1967D2;\n",
              "      --hover-bg-color: #E2EBFA;\n",
              "      --hover-fill-color: #174EA6;\n",
              "      --disabled-fill-color: #AAA;\n",
              "      --disabled-bg-color: #DDD;\n",
              "  }\n",
              "\n",
              "  [theme=dark] .colab-df-quickchart {\n",
              "      --bg-color: #3B4455;\n",
              "      --fill-color: #D2E3FC;\n",
              "      --hover-bg-color: #434B5C;\n",
              "      --hover-fill-color: #FFFFFF;\n",
              "      --disabled-bg-color: #3B4455;\n",
              "      --disabled-fill-color: #666;\n",
              "  }\n",
              "\n",
              "  .colab-df-quickchart {\n",
              "    background-color: var(--bg-color);\n",
              "    border: none;\n",
              "    border-radius: 50%;\n",
              "    cursor: pointer;\n",
              "    display: none;\n",
              "    fill: var(--fill-color);\n",
              "    height: 32px;\n",
              "    padding: 0;\n",
              "    width: 32px;\n",
              "  }\n",
              "\n",
              "  .colab-df-quickchart:hover {\n",
              "    background-color: var(--hover-bg-color);\n",
              "    box-shadow: 0 1px 2px rgba(60, 64, 67, 0.3), 0 1px 3px 1px rgba(60, 64, 67, 0.15);\n",
              "    fill: var(--button-hover-fill-color);\n",
              "  }\n",
              "\n",
              "  .colab-df-quickchart-complete:disabled,\n",
              "  .colab-df-quickchart-complete:disabled:hover {\n",
              "    background-color: var(--disabled-bg-color);\n",
              "    fill: var(--disabled-fill-color);\n",
              "    box-shadow: none;\n",
              "  }\n",
              "\n",
              "  .colab-df-spinner {\n",
              "    border: 2px solid var(--fill-color);\n",
              "    border-color: transparent;\n",
              "    border-bottom-color: var(--fill-color);\n",
              "    animation:\n",
              "      spin 1s steps(1) infinite;\n",
              "  }\n",
              "\n",
              "  @keyframes spin {\n",
              "    0% {\n",
              "      border-color: transparent;\n",
              "      border-bottom-color: var(--fill-color);\n",
              "      border-left-color: var(--fill-color);\n",
              "    }\n",
              "    20% {\n",
              "      border-color: transparent;\n",
              "      border-left-color: var(--fill-color);\n",
              "      border-top-color: var(--fill-color);\n",
              "    }\n",
              "    30% {\n",
              "      border-color: transparent;\n",
              "      border-left-color: var(--fill-color);\n",
              "      border-top-color: var(--fill-color);\n",
              "      border-right-color: var(--fill-color);\n",
              "    }\n",
              "    40% {\n",
              "      border-color: transparent;\n",
              "      border-right-color: var(--fill-color);\n",
              "      border-top-color: var(--fill-color);\n",
              "    }\n",
              "    60% {\n",
              "      border-color: transparent;\n",
              "      border-right-color: var(--fill-color);\n",
              "    }\n",
              "    80% {\n",
              "      border-color: transparent;\n",
              "      border-right-color: var(--fill-color);\n",
              "      border-bottom-color: var(--fill-color);\n",
              "    }\n",
              "    90% {\n",
              "      border-color: transparent;\n",
              "      border-bottom-color: var(--fill-color);\n",
              "    }\n",
              "  }\n",
              "</style>\n",
              "\n",
              "  <script>\n",
              "    async function quickchart(key) {\n",
              "      const quickchartButtonEl =\n",
              "        document.querySelector('#' + key + ' button');\n",
              "      quickchartButtonEl.disabled = true;  // To prevent multiple clicks.\n",
              "      quickchartButtonEl.classList.add('colab-df-spinner');\n",
              "      try {\n",
              "        const charts = await google.colab.kernel.invokeFunction(\n",
              "            'suggestCharts', [key], {});\n",
              "      } catch (error) {\n",
              "        console.error('Error during call to suggestCharts:', error);\n",
              "      }\n",
              "      quickchartButtonEl.classList.remove('colab-df-spinner');\n",
              "      quickchartButtonEl.classList.add('colab-df-quickchart-complete');\n",
              "    }\n",
              "    (() => {\n",
              "      let quickchartButtonEl =\n",
              "        document.querySelector('#df-24a85ba3-a493-4ae4-9c36-5bedc908498d button');\n",
              "      quickchartButtonEl.style.display =\n",
              "        google.colab.kernel.accessAllowed ? 'block' : 'none';\n",
              "    })();\n",
              "  </script>\n",
              "</div>\n",
              "    </div>\n",
              "  </div>\n"
            ]
          },
          "metadata": {},
          "execution_count": 14
        }
      ],
      "source": [
        "# Print a few rows of the imported dataset\n",
        "df_final.head()"
      ]
    },
    {
      "cell_type": "markdown",
      "metadata": {
        "id": "GuPoy_XfxhXZ"
      },
      "source": [
        "## **Exploratory Data Analysis**"
      ]
    },
    {
      "cell_type": "markdown",
      "metadata": {
        "id": "s0d0bWeG-sVB"
      },
      "source": [
        "### **Shape of the data**"
      ]
    },
    {
      "cell_type": "markdown",
      "metadata": {
        "id": "qyBVTRDTyek0"
      },
      "source": [
        "### **Check the number of rows and columns and provide observations.**"
      ]
    },
    {
      "cell_type": "code",
      "execution_count": null,
      "metadata": {
        "id": "fJ4eQKaY5JtQ",
        "colab": {
          "base_uri": "https://localhost:8080/"
        },
        "outputId": "8ab17dd2-2a54-4983-9250-f83fe192cc56"
      },
      "outputs": [
        {
          "output_type": "execute_result",
          "data": {
            "text/plain": [
              "(65290, 3)"
            ]
          },
          "metadata": {},
          "execution_count": 15
        }
      ],
      "source": [
        "# Check the number of rows and columns and provide observations\n",
        "shape_df_final = df_final.shape\n",
        "\n",
        "shape_df_final"
      ]
    },
    {
      "cell_type": "markdown",
      "metadata": {
        "id": "Slp-fgWQ-sVD"
      },
      "source": [
        "**Observations:**\n",
        "\n",
        "1. After filtering, the dataset has been significantly reduced from the original 7,824,482 observations to just 65,290 observations.\n",
        "2. This reduced dataset is more manageable and computationally feasible for building recommendation systems.\n",
        "3. By focusing on users who have given at least 50 ratings and products that have received at least 5 ratings, we've ensured that our dataset retains meaningful interactions while reducing noise."
      ]
    },
    {
      "cell_type": "markdown",
      "metadata": {
        "id": "lAMWm0nC-sVF"
      },
      "source": [
        "### **Data types**"
      ]
    },
    {
      "cell_type": "code",
      "execution_count": null,
      "metadata": {
        "id": "SVrgMkye5JtQ",
        "colab": {
          "base_uri": "https://localhost:8080/"
        },
        "outputId": "f90f851f-a3fd-4f8f-e50b-bce0f4b9de3c"
      },
      "outputs": [
        {
          "output_type": "execute_result",
          "data": {
            "text/plain": [
              "user_id     object\n",
              "prod_id     object\n",
              "rating     float64\n",
              "dtype: object"
            ]
          },
          "metadata": {},
          "execution_count": 16
        }
      ],
      "source": [
        "# Check Data types and provide observations\n",
        "data_types = df_final.dtypes\n",
        "\n",
        "data_types"
      ]
    },
    {
      "cell_type": "markdown",
      "metadata": {
        "id": "z4fOE02D-sVF"
      },
      "source": [
        "**Observations:**\n",
        "1. Both 'user_id' and 'prod_id' are string objects, which is expected as they represent unique identifiers for users and products, respectively.\n",
        "2. The 'rating' column is a floating-point number, representing the rating value given by a user to a product."
      ]
    },
    {
      "cell_type": "markdown",
      "metadata": {
        "id": "lTMpOROT-sVG"
      },
      "source": [
        "### **Checking for missing values**"
      ]
    },
    {
      "cell_type": "code",
      "execution_count": null,
      "metadata": {
        "id": "vt-VEjMA5JtQ",
        "colab": {
          "base_uri": "https://localhost:8080/"
        },
        "outputId": "fe9756d8-ce1b-4738-e5a5-1d3e3b32cb5b"
      },
      "outputs": [
        {
          "output_type": "execute_result",
          "data": {
            "text/plain": [
              "user_id    0\n",
              "prod_id    0\n",
              "rating     0\n",
              "dtype: int64"
            ]
          },
          "metadata": {},
          "execution_count": 17
        }
      ],
      "source": [
        "# Check for missing values present and provide observations\n",
        "missing_values_final = df_final.isnull().sum()\n",
        "\n",
        "missing_values_final"
      ]
    },
    {
      "cell_type": "markdown",
      "metadata": {
        "id": "qMWuBNhI5JtR"
      },
      "source": [
        "**Observations:**\n",
        "1. All the columns: user_id, prod_id, and rating have no missing values.\n",
        "2. This indicates that the dataset is complete, and we don't need any imputation or data cleaning related to missing values."
      ]
    },
    {
      "cell_type": "markdown",
      "metadata": {
        "id": "wETrCg48-sVG"
      },
      "source": [
        "### **Summary Statistics**"
      ]
    },
    {
      "cell_type": "code",
      "execution_count": null,
      "metadata": {
        "id": "tYm30MXR5JtR",
        "colab": {
          "base_uri": "https://localhost:8080/"
        },
        "outputId": "e30d3ddb-1c7e-4f9f-9590-1558860df36f"
      },
      "outputs": [
        {
          "output_type": "execute_result",
          "data": {
            "text/plain": [
              "count    65290.000000\n",
              "mean         4.294808\n",
              "std          0.988915\n",
              "min          1.000000\n",
              "25%          4.000000\n",
              "50%          5.000000\n",
              "75%          5.000000\n",
              "max          5.000000\n",
              "Name: rating, dtype: float64"
            ]
          },
          "metadata": {},
          "execution_count": 18
        }
      ],
      "source": [
        "# Summary statistics of 'rating' variable and provide observations\n",
        "rating_summary = df_final['rating'].describe()\n",
        "\n",
        "rating_summary"
      ]
    },
    {
      "cell_type": "markdown",
      "metadata": {
        "id": "VqW50EIJxhXc"
      },
      "source": [
        "**Observations:**\n",
        "1. The average rating is quite high, indicating that users in this filtered dataset generally have a positive sentiment towards the products they rate.\n",
        "2. The median rating being 5 suggests that at least half of the ratings in the dataset are the maximum possible rating.\n",
        "3. The relatively low standard deviation indicates that most ratings are close to the mean value, with fewer low ratings."
      ]
    },
    {
      "cell_type": "markdown",
      "metadata": {
        "id": "ywyFrZIf5JtR"
      },
      "source": [
        "### **Checking the rating distribution**"
      ]
    },
    {
      "cell_type": "code",
      "source": [
        "import matplotlib.pyplot as plt\n",
        "import seaborn as sns\n",
        "# Create the bar plot and provide observations\n",
        "# Frequency table for rating distribution\n",
        "rating_frequency = df_final['rating'].value_counts().sort_index()\n",
        "\n",
        "# Display the frequency table\n",
        "rating_frequency_display = rating_frequency.to_frame(name=\"Number of Ratings\").reset_index().rename(columns={'index': 'Rating'})\n",
        "\n",
        "# Plotting the bar plot for rating distribution\n",
        "plt.figure(figsize=(10, 6))\n",
        "sns.barplot(x=rating_frequency_display['Rating'], y=rating_frequency_display['Number of Ratings'], palette='viridis')\n",
        "plt.title('Distribution of Ratings', fontsize=16)\n",
        "plt.xlabel('Rating', fontsize=14)\n",
        "plt.ylabel('Number of Ratings', fontsize=14)\n",
        "plt.show()\n",
        "\n",
        "rating_frequency_display"
      ],
      "metadata": {
        "colab": {
          "base_uri": "https://localhost:8080/",
          "height": 760
        },
        "id": "zp6TRYSFSeim",
        "outputId": "c09a8337-725d-42f1-fb22-9ef1785613bb"
      },
      "execution_count": null,
      "outputs": [
        {
          "output_type": "display_data",
          "data": {
            "text/plain": [
              "<Figure size 1000x600 with 1 Axes>"
            ],
            "image/png": "[encoded data removed]"
          },
          "metadata": {}
        },
        {
          "output_type": "execute_result",
          "data": {
            "text/plain": [
              "   Rating  Number of Ratings\n",
              "0     1.0               1852\n",
              "1     2.0               2515\n",
              "2     3.0               6481\n",
              "3     4.0              18127\n",
              "4     5.0              36315"
            ],
            "text/html": [
              "\n",
              "  <div id=\"df-6a2240aa-6212-4cc8-85c2-c174221d330d\" class=\"colab-df-container\">\n",
              "    <div>\n",
              "<style scoped>\n",
              "    .dataframe tbody tr th:only-of-type {\n",
              "        vertical-align: middle;\n",
              "    }\n",
              "\n",
              "    .dataframe tbody tr th {\n",
              "        vertical-align: top;\n",
              "    }\n",
              "\n",
              "    .dataframe thead th {\n",
              "        text-align: right;\n",
              "    }\n",
              "</style>\n",
              "<table border=\"1\" class=\"dataframe\">\n",
              "  <thead>\n",
              "    <tr style=\"text-align: right;\">\n",
              "      <th></th>\n",
              "      <th>Rating</th>\n",
              "      <th>Number of Ratings</th>\n",
              "    </tr>\n",
              "  </thead>\n",
              "  <tbody>\n",
              "    <tr>\n",
              "      <th>0</th>\n",
              "      <td>1.0</td>\n",
              "      <td>1852</td>\n",
              "    </tr>\n",
              "    <tr>\n",
              "      <th>1</th>\n",
              "      <td>2.0</td>\n",
              "      <td>2515</td>\n",
              "    </tr>\n",
              "    <tr>\n",
              "      <th>2</th>\n",
              "      <td>3.0</td>\n",
              "      <td>6481</td>\n",
              "    </tr>\n",
              "    <tr>\n",
              "      <th>3</th>\n",
              "      <td>4.0</td>\n",
              "      <td>18127</td>\n",
              "    </tr>\n",
              "    <tr>\n",
              "      <th>4</th>\n",
              "      <td>5.0</td>\n",
              "      <td>36315</td>\n",
              "    </tr>\n",
              "  </tbody>\n",
              "</table>\n",
              "</div>\n",
              "    <div class=\"colab-df-buttons\">\n",
              "\n",
              "  <div class=\"colab-df-container\">\n",
              "    <button class=\"colab-df-convert\" onclick=\"convertToInteractive('df-6a2240aa-6212-4cc8-85c2-c174221d330d')\"\n",
              "            title=\"Convert this dataframe to an interactive table.\"\n",
              "            style=\"display:none;\">\n",
              "\n",
              "  <svg xmlns=\"http://www.w3.org/2000/svg\" height=\"24px\" viewBox=\"0 -960 960 960\">\n",
              "    <path d=\"M120-120v-720h720v720H120Zm60-500h600v-160H180v160Zm220 220h160v-160H400v160Zm0 220h160v-160H400v160ZM180-400h160v-160H180v160Zm440 0h160v-160H620v160ZM180-180h160v-160H180v160Zm440 0h160v-160H620v160Z\"/>\n",
              "  </svg>\n",
              "    </button>\n",
              "\n",
              "  <style>\n",
              "    .colab-df-container {\n",
              "      display:flex;\n",
              "      gap: 12px;\n",
              "    }\n",
              "\n",
              "    .colab-df-convert {\n",
              "      background-color: #E8F0FE;\n",
              "      border: none;\n",
              "      border-radius: 50%;\n",
              "      cursor: pointer;\n",
              "      display: none;\n",
              "      fill: #1967D2;\n",
              "      height: 32px;\n",
              "      padding: 0 0 0 0;\n",
              "      width: 32px;\n",
              "    }\n",
              "\n",
              "    .colab-df-convert:hover {\n",
              "      background-color: #E2EBFA;\n",
              "      box-shadow: 0px 1px 2px rgba(60, 64, 67, 0.3), 0px 1px 3px 1px rgba(60, 64, 67, 0.15);\n",
              "      fill: #174EA6;\n",
              "    }\n",
              "\n",
              "    .colab-df-buttons div {\n",
              "      margin-bottom: 4px;\n",
              "    }\n",
              "\n",
              "    [theme=dark] .colab-df-convert {\n",
              "      background-color: #3B4455;\n",
              "      fill: #D2E3FC;\n",
              "    }\n",
              "\n",
              "    [theme=dark] .colab-df-convert:hover {\n",
              "      background-color: #434B5C;\n",
              "      box-shadow: 0px 1px 3px 1px rgba(0, 0, 0, 0.15);\n",
              "      filter: drop-shadow(0px 1px 2px rgba(0, 0, 0, 0.3));\n",
              "      fill: #FFFFFF;\n",
              "    }\n",
              "  </style>\n",
              "\n",
              "    <script>\n",
              "      const buttonEl =\n",
              "        document.querySelector('#df-6a2240aa-6212-4cc8-85c2-c174221d330d button.colab-df-convert');\n",
              "      buttonEl.style.display =\n",
              "        google.colab.kernel.accessAllowed ? 'block' : 'none';\n",
              "\n",
              "      async function convertToInteractive(key) {\n",
              "        const element = document.querySelector('#df-6a2240aa-6212-4cc8-85c2-c174221d330d');\n",
              "        const dataTable =\n",
              "          await google.colab.kernel.invokeFunction('convertToInteractive',\n",
              "                                                    [key], {});\n",
              "        if (!dataTable) return;\n",
              "\n",
              "        const docLinkHtml = 'Like what you see? Visit the ' +\n",
              "          '<a target=\"_blank\" href=https://colab.research.google.com/notebooks/data_table.ipynb>data table notebook</a>'\n",
              "          + ' to learn more about interactive tables.';\n",
              "        element.innerHTML = '';\n",
              "        dataTable['output_type'] = 'display_data';\n",
              "        await google.colab.output.renderOutput(dataTable, element);\n",
              "        const docLink = document.createElement('div');\n",
              "        docLink.innerHTML = docLinkHtml;\n",
              "        element.appendChild(docLink);\n",
              "      }\n",
              "    </script>\n",
              "  </div>\n",
              "\n",
              "\n",
              "<div id=\"df-a3e1af7b-9012-470b-a985-53c47d3e32e7\">\n",
              "  <button class=\"colab-df-quickchart\" onclick=\"quickchart('df-a3e1af7b-9012-470b-a985-53c47d3e32e7')\"\n",
              "            title=\"Suggest charts.\"\n",
              "            style=\"display:none;\">\n",
              "\n",
              "<svg xmlns=\"http://www.w3.org/2000/svg\" height=\"24px\"viewBox=\"0 0 24 24\"\n",
              "     width=\"24px\">\n",
              "    <g>\n",
              "        <path d=\"M19 3H5c-1.1 0-2 .9-2 2v14c0 1.1.9 2 2 2h14c1.1 0 2-.9 2-2V5c0-1.1-.9-2-2-2zM9 17H7v-7h2v7zm4 0h-2V7h2v10zm4 0h-2v-4h2v4z\"/>\n",
              "    </g>\n",
              "</svg>\n",
              "  </button>\n",
              "\n",
              "<style>\n",
              "  .colab-df-quickchart {\n",
              "      --bg-color: #E8F0FE;\n",
              "      --fill-color: #1967D2;\n",
              "      --hover-bg-color: #E2EBFA;\n",
              "      --hover-fill-color: #174EA6;\n",
              "      --disabled-fill-color: #AAA;\n",
              "      --disabled-bg-color: #DDD;\n",
              "  }\n",
              "\n",
              "  [theme=dark] .colab-df-quickchart {\n",
              "      --bg-color: #3B4455;\n",
              "      --fill-color: #D2E3FC;\n",
              "      --hover-bg-color: #434B5C;\n",
              "      --hover-fill-color: #FFFFFF;\n",
              "      --disabled-bg-color: #3B4455;\n",
              "      --disabled-fill-color: #666;\n",
              "  }\n",
              "\n",
              "  .colab-df-quickchart {\n",
              "    background-color: var(--bg-color);\n",
              "    border: none;\n",
              "    border-radius: 50%;\n",
              "    cursor: pointer;\n",
              "    display: none;\n",
              "    fill: var(--fill-color);\n",
              "    height: 32px;\n",
              "    padding: 0;\n",
              "    width: 32px;\n",
              "  }\n",
              "\n",
              "  .colab-df-quickchart:hover {\n",
              "    background-color: var(--hover-bg-color);\n",
              "    box-shadow: 0 1px 2px rgba(60, 64, 67, 0.3), 0 1px 3px 1px rgba(60, 64, 67, 0.15);\n",
              "    fill: var(--button-hover-fill-color);\n",
              "  }\n",
              "\n",
              "  .colab-df-quickchart-complete:disabled,\n",
              "  .colab-df-quickchart-complete:disabled:hover {\n",
              "    background-color: var(--disabled-bg-color);\n",
              "    fill: var(--disabled-fill-color);\n",
              "    box-shadow: none;\n",
              "  }\n",
              "\n",
              "  .colab-df-spinner {\n",
              "    border: 2px solid var(--fill-color);\n",
              "    border-color: transparent;\n",
              "    border-bottom-color: var(--fill-color);\n",
              "    animation:\n",
              "      spin 1s steps(1) infinite;\n",
              "  }\n",
              "\n",
              "  @keyframes spin {\n",
              "    0% {\n",
              "      border-color: transparent;\n",
              "      border-bottom-color: var(--fill-color);\n",
              "      border-left-color: var(--fill-color);\n",
              "    }\n",
              "    20% {\n",
              "      border-color: transparent;\n",
              "      border-left-color: var(--fill-color);\n",
              "      border-top-color: var(--fill-color);\n",
              "    }\n",
              "    30% {\n",
              "      border-color: transparent;\n",
              "      border-left-color: var(--fill-color);\n",
              "      border-top-color: var(--fill-color);\n",
              "      border-right-color: var(--fill-color);\n",
              "    }\n",
              "    40% {\n",
              "      border-color: transparent;\n",
              "      border-right-color: var(--fill-color);\n",
              "      border-top-color: var(--fill-color);\n",
              "    }\n",
              "    60% {\n",
              "      border-color: transparent;\n",
              "      border-right-color: var(--fill-color);\n",
              "    }\n",
              "    80% {\n",
              "      border-color: transparent;\n",
              "      border-right-color: var(--fill-color);\n",
              "      border-bottom-color: var(--fill-color);\n",
              "    }\n",
              "    90% {\n",
              "      border-color: transparent;\n",
              "      border-bottom-color: var(--fill-color);\n",
              "    }\n",
              "  }\n",
              "</style>\n",
              "\n",
              "  <script>\n",
              "    async function quickchart(key) {\n",
              "      const quickchartButtonEl =\n",
              "        document.querySelector('#' + key + ' button');\n",
              "      quickchartButtonEl.disabled = true;  // To prevent multiple clicks.\n",
              "      quickchartButtonEl.classList.add('colab-df-spinner');\n",
              "      try {\n",
              "        const charts = await google.colab.kernel.invokeFunction(\n",
              "            'suggestCharts', [key], {});\n",
              "      } catch (error) {\n",
              "        console.error('Error during call to suggestCharts:', error);\n",
              "      }\n",
              "      quickchartButtonEl.classList.remove('colab-df-spinner');\n",
              "      quickchartButtonEl.classList.add('colab-df-quickchart-complete');\n",
              "    }\n",
              "    (() => {\n",
              "      let quickchartButtonEl =\n",
              "        document.querySelector('#df-a3e1af7b-9012-470b-a985-53c47d3e32e7 button');\n",
              "      quickchartButtonEl.style.display =\n",
              "        google.colab.kernel.accessAllowed ? 'block' : 'none';\n",
              "    })();\n",
              "  </script>\n",
              "</div>\n",
              "    </div>\n",
              "  </div>\n"
            ]
          },
          "metadata": {},
          "execution_count": 19
        }
      ]
    },
    {
      "cell_type": "markdown",
      "metadata": {
        "id": "t0jONrQv-sVH"
      },
      "source": [
        "**Observations:**\n",
        "1. The majority of ratings are 5, indicating that many users are satisfied with their purchases.\n",
        "2. Ratings of 1 and 2 are the least frequent, suggesting fewer negative reviews.\n",
        "3. Ratings of 4 are also relatively common, representing a good level of satisfaction among users.\n",
        "4. Ratings of 3 are moderate, indicating a neutral sentiment.\n",
        "\n",
        "This distribution aligns with the earlier observation from the summary statistics that the dataset predominantly has positive reviews."
      ]
    },
    {
      "cell_type": "markdown",
      "metadata": {
        "id": "HefpLdLJxhXd"
      },
      "source": [
        "### **Checking the number of unique users and items in the dataset**"
      ]
    },
    {
      "cell_type": "code",
      "execution_count": null,
      "metadata": {
        "id": "NbSom7195JtR",
        "colab": {
          "base_uri": "https://localhost:8080/"
        },
        "outputId": "17378164-5a4e-4706-9405-ede54db3dba6"
      },
      "outputs": [
        {
          "output_type": "stream",
          "name": "stdout",
          "text": [
            "Number of unique users: 1540\n",
            "Number of unique products: 5689\n"
          ]
        }
      ],
      "source": [
        "# Number of total rows in the data and number of unique user id and product id in the data\n",
        "\n",
        "#Count Unique Users\n",
        "unique_users_count = len(df_final['user_id'].unique())\n",
        "\n",
        "#Count Unique Products\n",
        "unique_products_count = len(df_final['prod_id'].unique())\n",
        "\n",
        "#Print the Results\n",
        "print(\"Number of unique users:\", unique_users_count)\n",
        "print(\"Number of unique products:\", unique_products_count)"
      ]
    },
    {
      "cell_type": "markdown",
      "metadata": {
        "id": "Qwgz6CUt-sVI"
      },
      "source": [
        "**Observations:**\n",
        "1. Diverse User Base: The dataset contains ratings from 1,540 unique users. This is a good sample size and suggests a diverse user base, allowing for more generalizable recommendations.\n",
        "\n",
        "2. Wide Product Range: With 5,689 unique products rated, there's a wide variety of products that users have interacted with. This broad product range can help in better capturing user preferences and ensuring recommendations are varied.\n",
        "\n",
        "3. Filtering Impact: Originally, the dataset had 7,824,482 observations. After filtering, we've significantly reduced this number, but the dataset still represents a considerable number of unique users and products. This indicates the effectiveness of our filtering criteria in retaining significant interactions while removing sparse data.\n",
        "\n",
        "4. Density: Given that there are 65,290 ratings spread across 1,540 users and 5,689 products, the user-product interaction matrix will still be sparse. This sparsity is typical in recommendation systems and emphasizes the importance of using methods that can handle such data structures (like matrix factorization or collaborative filtering).\n",
        "\n",
        "5. Potential Cold Start: The number of products (5,689) is greater than the number of users (1,540). This could mean that there are products with very few ratings. Addressing cold start problems, where certain products have minimal user interactions, could be an area to consider when building the recommendation system.\n",
        "\n",
        "6. User Engagement: Since we filtered users to only those who have given at least 50 ratings, the dataset represents active or engaged users. This can be advantageous as active users provide more data to discern preferences, but it's also essential to consider how the system would cater to less active users"
      ]
    },
    {
      "cell_type": "markdown",
      "metadata": {
        "id": "RfDnhSS4-sVI"
      },
      "source": [
        "### **Users with the most number of ratings**"
      ]
    },
    {
      "cell_type": "code",
      "execution_count": null,
      "metadata": {
        "id": "n7MX452q5JtR",
        "colab": {
          "base_uri": "https://localhost:8080/"
        },
        "outputId": "b2aafbbb-40c8-4400-8e12-a9b96d8d5b7b"
      },
      "outputs": [
        {
          "output_type": "stream",
          "name": "stdout",
          "text": [
            "ADLVFFE4VBT8      295\n",
            "A3OXHLG6DIBRW8    230\n",
            "A1ODOGXEYECQQ8    217\n",
            "A36K2N527TXXJN    212\n",
            "A25C2M3QF9G7OQ    203\n",
            "A680RUE1FDO8B     196\n",
            "A1UQBFCERIP7VJ    193\n",
            "A22CW0ZHY3NJH8    193\n",
            "AWPODHOB4GFWL     184\n",
            "AGVWTYW0ULXHT     179\n",
            "Name: user_id, dtype: int64\n"
          ]
        }
      ],
      "source": [
        "# Top 10 users based on the number of ratings\n",
        "top_users = df_final['user_id'].value_counts().head(10)\n",
        "print(top_users)"
      ]
    },
    {
      "cell_type": "markdown",
      "metadata": {
        "id": "1X2w_jt9-sVI"
      },
      "source": [
        "**Observations:**\n",
        "1. Variation in Activity: The most active user, ADLVFFE4VBT8, has given 295 ratings, while the 10th most active user, AGVWTYW0ULXHT, has given 179 ratings. This indicates a reasonable variation in activity levels even among the top 10 users.\n",
        "2. High Engagement: All the top 10 users have given close to or more than 200 ratings, showcasing a high level of engagement with the platform.\n",
        "3. Key Contributors: These users collectively have contributed 1,902 ratings, which is a significant portion of the total ratings in the filtered dataset. Their ratings and reviews are likely to have a substantial impact on the recommendation system.\n",
        "4. Potential for Detailed User Profiles: Given their high activity, the recommendation system would have a rich set of data to understand the preferences and behaviors of these users. This can help in fine-tuning recommendations specifically for them.\n",
        "5. Feedback & Quality Control: Engaging with such active users directly could provide valuable feedback for the platform. Their high activity suggests they might be willing to provide feedback on the recommendation quality or other aspects of the platform.\n",
        "6. Diverse Interests: As previously mentioned, the diversity of products these users have rated can be an asset for the recommendation system. It would be interesting to further analyze the range of products they've rated to understand their breadth of interests.\n",
        "7. Influence on Others: Given their high activity, other users might come across their ratings and reviews frequently. This means their opinions can influence the purchasing decisions of many other users."
      ]
    },
    {
      "cell_type": "markdown",
      "metadata": {
        "id": "EnYTx-Ol-sVg"
      },
      "source": [
        "**Now that we have explored and prepared the data, let's build the first recommendation system.**"
      ]
    },
    {
      "cell_type": "markdown",
      "metadata": {
        "id": "6xYGrGVy5JtS"
      },
      "source": [
        "## **Model 1: Rank Based Recommendation System**"
      ]
    },
    {
      "cell_type": "code",
      "execution_count": null,
      "metadata": {
        "id": "yxZTj1UPxhXh",
        "scrolled": true,
        "colab": {
          "base_uri": "https://localhost:8080/"
        },
        "outputId": "abe794f5-0646-4b09-a7bf-cd69ec1792ca"
      },
      "outputs": [
        {
          "output_type": "stream",
          "name": "stdout",
          "text": [
            "            average_rating  count_ratings\n",
            "prod_id                                  \n",
            "B00LGQ6HL8             5.0              5\n",
            "B003DZJQQI             5.0             14\n",
            "B005FDXF2C             5.0              7\n",
            "B00I6CVPVC             5.0              7\n",
            "B00B9KOCYA             5.0              8\n"
          ]
        }
      ],
      "source": [
        "# Calculate the average rating for each product\n",
        "average_rating = df_final.groupby('prod_id')['rating'].mean()\n",
        "\n",
        "# Calculate the count of ratings for each product\n",
        "count_ratings = df_final.groupby('prod_id')['rating'].count()\n",
        "\n",
        "# Create a dataframe with calculated average and count of ratings\n",
        "final_rating = pd.DataFrame({'average_rating': average_rating, 'count_ratings': count_ratings})\n",
        "\n",
        "# Sort the dataframe by average of ratings in the descending order\n",
        "final_rating = final_rating.sort_values(by='average_rating', ascending=False)\n",
        "\n",
        "# See the first five records of the \"final_rating\" dataset\n",
        "print(final_rating.head())\n"
      ]
    },
    {
      "cell_type": "code",
      "execution_count": null,
      "metadata": {
        "id": "zKU__5s1xhXi",
        "colab": {
          "base_uri": "https://localhost:8080/"
        },
        "outputId": "6dbe923b-0acd-4d3b-87eb-1fc6b2209211"
      },
      "outputs": [
        {
          "output_type": "stream",
          "name": "stdout",
          "text": [
            "            average_rating  count_ratings\n",
            "prod_id                                  \n",
            "B001TH7GUU        4.871795             78\n",
            "B003ES5ZUU        4.864130            184\n",
            "B0019EHU8G        4.855556             90\n",
            "B006W8U2MU        4.824561             57\n",
            "B000QUUFRW        4.809524             84\n",
            "B000HPV3RW        4.803922             51\n",
            "B001TH7GSW        4.803279             61\n",
            "B000BQ7GW8        4.777778             54\n",
            "B000N99BBC        4.772455            167\n",
            "B002WE6D44        4.770000            100\n",
            "            average_rating  count_ratings\n",
            "prod_id                                  \n",
            "B00LGQ6HL8             5.0              5\n",
            "B000IJY8DS             5.0             17\n",
            "B000HZGQ9C             5.0              5\n",
            "B008R7EXCE             5.0              6\n",
            "B003ZTKFEE             5.0              9\n"
          ]
        }
      ],
      "source": [
        "# Defining a function to get the top n products based on the highest average rating and minimum interactions\n",
        "def top_n_products(data, n, min_interactions=50):\n",
        "    products_with_min_interactions = data[data['count_ratings'] >= min_interactions]\n",
        "    top_n = products_with_min_interactions.sort_values(by='average_rating', ascending=False).head(n)\n",
        "    return top_n\n",
        "\n",
        "# Finding products with minimum number of interactions\n",
        "top_products = top_n_products(final_rating, n=10)\n",
        "print(top_products)\n",
        "\n",
        "# Sorting values with respect to average rating\n",
        "sorted_final_rating = final_rating.sort_values(by='average_rating', ascending=False)\n",
        "\n",
        "# Displaying the top 5 products after sorting\n",
        "print(sorted_final_rating.head())"
      ]
    },
    {
      "cell_type": "markdown",
      "metadata": {
        "id": "F8l6373PxhXi"
      },
      "source": [
        "### **Recommending top 5 products with 50 minimum interactions based on popularity**"
      ]
    },
    {
      "cell_type": "code",
      "execution_count": null,
      "metadata": {
        "id": "dBxdLiM_xhXi",
        "colab": {
          "base_uri": "https://localhost:8080/"
        },
        "outputId": "d9e83269-a99b-4994-d35d-1b9f4f66312e"
      },
      "outputs": [
        {
          "output_type": "stream",
          "name": "stdout",
          "text": [
            "            average_rating  count_ratings\n",
            "prod_id                                  \n",
            "B001TH7GUU        4.871795             78\n",
            "B003ES5ZUU        4.864130            184\n",
            "B0019EHU8G        4.855556             90\n",
            "B006W8U2MU        4.824561             57\n",
            "B000QUUFRW        4.809524             84\n"
          ]
        }
      ],
      "source": [
        "# Recommending top 5 products with 50 minimum interactions based on popularity\n",
        "recommended_products = top_n_products(final_rating, n=5, min_interactions=50)\n",
        "print(recommended_products)\n"
      ]
    },
    {
      "cell_type": "markdown",
      "metadata": {
        "id": "l9_xW_UMxhXj"
      },
      "source": [
        "### **Recommending top 5 products with 100 minimum interactions based on popularity**"
      ]
    },
    {
      "cell_type": "code",
      "execution_count": null,
      "metadata": {
        "id": "dZgGZCUoxhXj",
        "colab": {
          "base_uri": "https://localhost:8080/"
        },
        "outputId": "b002ccb1-e1d1-4561-bf05-80b30e467629"
      },
      "outputs": [
        {
          "output_type": "stream",
          "name": "stdout",
          "text": [
            "            average_rating  count_ratings\n",
            "prod_id                                  \n",
            "B003ES5ZUU        4.864130            184\n",
            "B000N99BBC        4.772455            167\n",
            "B002WE6D44        4.770000            100\n",
            "B007WTAJTO        4.701220            164\n",
            "B002V88HFE        4.698113            106\n"
          ]
        }
      ],
      "source": [
        "# Recommending top 5 products with 100 minimum interactions based on popularity\n",
        "recommended_products_100 = top_n_products(final_rating, n=5, min_interactions=100)\n",
        "print(recommended_products_100)\n"
      ]
    },
    {
      "cell_type": "markdown",
      "metadata": {
        "id": "BL-m68a15JtT",
        "outputId": "69132b0f-8d3f-4798-f6a0-249e17a3c822"
      },
      "source": [
        "We have recommended the **top 5** products by using the popularity recommendation system. Now, let's build a recommendation system using **collaborative filtering.**"
      ]
    },
    {
      "cell_type": "markdown",
      "metadata": {
        "id": "sJI5kiiGvOOK"
      },
      "source": [
        "## **Model 2: Collaborative Filtering Recommendation System**"
      ]
    },
    {
      "cell_type": "markdown",
      "metadata": {
        "id": "skzc0N1_nVNB"
      },
      "source": [
        "### **Building a baseline user-user similarity based recommendation system**"
      ]
    },
    {
      "cell_type": "markdown",
      "metadata": {
        "id": "d4Uo_MYMnVNB"
      },
      "source": [
        "- Below, we are building **similarity-based recommendation systems** using `cosine` similarity and using **KNN to find similar users** which are the nearest neighbor to the given user.  \n",
        "- We will be using a new library, called `surprise`, to build the remaining models. Let's first import the necessary classes and functions from this library."
      ]
    },
    {
      "cell_type": "code",
      "execution_count": null,
      "metadata": {
        "id": "UJ1wEylUpexj"
      },
      "outputs": [],
      "source": [
        "# To compute the accuracy of models\n",
        "from surprise import accuracy\n",
        "\n",
        "# Class is used to parse a file containing ratings, data should be in structure - user ; item ; rating\n",
        "from surprise.reader import Reader\n",
        "\n",
        "# Class for loading datasets\n",
        "from surprise.dataset import Dataset\n",
        "\n",
        "# For tuning model hyperparameters\n",
        "from surprise.model_selection import GridSearchCV\n",
        "\n",
        "# For splitting the rating data in train and test datasets\n",
        "from surprise.model_selection import train_test_split\n",
        "\n",
        "# For implementing similarity-based recommendation system\n",
        "from surprise.prediction_algorithms.knns import KNNBasic\n",
        "\n",
        "# For implementing matrix factorization based recommendation system\n",
        "from surprise.prediction_algorithms.matrix_factorization import SVD\n",
        "\n",
        "# for implementing K-Fold cross-validation\n",
        "from surprise.model_selection import KFold\n",
        "\n",
        "# For implementing clustering-based recommendation system\n",
        "from surprise import CoClustering"
      ]
    },
    {
      "cell_type": "markdown",
      "metadata": {
        "id": "54MqVAtDTsnl"
      },
      "source": [
        "**Before building the recommendation systems, let's  go over some basic terminologies we are going to use:**"
      ]
    },
    {
      "cell_type": "markdown",
      "metadata": {
        "id": "Qsxb3xhnTsnl"
      },
      "source": [
        "**Relevant item:** An item (product in this case) that is actually **rated higher than the threshold rating** is relevant, if the **actual rating is below the threshold then it is a non-relevant item**.  \n",
        "\n",
        "**Recommended item:** An item that's **predicted rating is higher than the threshold is a recommended item**, if the **predicted rating is below the threshold then that product will not be recommended to the user**.  \n"
      ]
    },
    {
      "cell_type": "markdown",
      "metadata": {
        "id": "moyLUHCuTsnl"
      },
      "source": [
        "**False Negative (FN):** It is the **frequency of relevant items that are not recommended to the user**. If the relevant items are not recommended to the user, then the user might not buy the product/item. This would result in the **loss of opportunity for the service provider**, which they would like to minimize.\n",
        "\n",
        "**False Positive (FP):** It is the **frequency of recommended items that are actually not relevant**. In this case, the recommendation system is not doing a good job of finding and recommending the relevant items to the user. This would result in **loss of resources for the service provider**, which they would also like to minimize."
      ]
    },
    {
      "cell_type": "markdown",
      "metadata": {
        "id": "Yuvc2VaZTsnl"
      },
      "source": [
        "**Recall:** It is the **fraction of actually relevant items that are recommended to the user**, i.e., if out of 10 relevant products, 6 are recommended to the user then recall is 0.60. Higher the value of recall better is the model. It is one of the metrics to do the performance assessment of classification models.\n",
        "\n",
        "**Precision:** It is the **fraction of recommended items that are relevant actually**, i.e., if out of 10 recommended items, 6 are found relevant by the user then precision is 0.60. The higher the value of precision better is the model. It is one of the metrics to do the performance assessment of classification models."
      ]
    },
    {
      "cell_type": "markdown",
      "metadata": {
        "id": "8NLc36Y8Tsnm"
      },
      "source": [
        "**While making a recommendation system, it becomes customary to look at the performance of the model. In terms of how many recommendations are relevant and vice-versa, below are some most used performance metrics used in the assessment of recommendation systems.**"
      ]
    },
    {
      "cell_type": "markdown",
      "metadata": {
        "id": "cqF8fRBqTsnm"
      },
      "source": [
        "### **Precision@k, Recall@ k, and F1-score@k**"
      ]
    },
    {
      "cell_type": "markdown",
      "metadata": {
        "id": "imMJNF0HTsnm"
      },
      "source": [
        "**Precision@k** - It is the **fraction of recommended items that are relevant in `top k` predictions**. The value of k is the number of recommendations to be provided to the user. One can choose a variable number of recommendations to be given to a unique user.  \n",
        "\n",
        "\n",
        "**Recall@k** - It is the **fraction of relevant items that are recommended to the user in `top k` predictions**.\n",
        "\n",
        "**F1-score@k** - It is the **harmonic mean of Precision@k and Recall@k**. When **precision@k and recall@k both seem to be important** then it is useful to use this metric because it is representative of both of them."
      ]
    },
    {
      "cell_type": "markdown",
      "metadata": {
        "id": "jBW4BUhWTsnm"
      },
      "source": [
        "### **Some useful functions**"
      ]
    },
    {
      "cell_type": "markdown",
      "metadata": {
        "id": "QOBHKh0eTsnm"
      },
      "source": [
        "- Below function takes the **recommendation model** as input and gives the **precision@k, recall@k, and F1-score@k** for that model.  \n",
        "- To compute **precision and recall**, **top k** predictions are taken under consideration for each user.\n",
        "- We will use the precision and recall to compute the F1-score."
      ]
    },
    {
      "cell_type": "code",
      "source": [
        "def precision_recall_at_k(model, testset, k=10, threshold=3.5):\n",
        "    \"\"\"Return precision and recall at k metrics for each user.\"\"\"\n",
        "\n",
        "    # Ensure k is an integer\n",
        "    k = int(k)\n",
        "\n",
        "    # First, map the predictions to each user\n",
        "    user_est_true = defaultdict(list)\n",
        "\n",
        "    # Making predictions on the test data\n",
        "    predictions = model.test(testset)\n",
        "\n",
        "    for uid, _, true_r, est, _ in predictions:\n",
        "        user_est_true[uid].append((est, true_r))\n",
        "\n",
        "    precisions = dict()\n",
        "    recalls = dict()\n",
        "    for uid, user_ratings in user_est_true.items():\n",
        "\n",
        "        # Sort user ratings by estimated value\n",
        "        user_ratings.sort(key=lambda x: x[0], reverse=True)\n",
        "\n",
        "        # Number of relevant items\n",
        "        n_rel = sum((true_r >= threshold) for (_, true_r) in user_ratings)\n",
        "\n",
        "        # Number of recommended items in top k\n",
        "        n_rec_k = sum((est >= threshold) for (est, _) in user_ratings[:k])\n",
        "\n",
        "        # Number of relevant and recommended items in top k\n",
        "        n_rel_and_rec_k = sum(((true_r >= threshold) and (est >= threshold))\n",
        "                              for (est, true_r) in user_ratings[:k])\n",
        "\n",
        "        # Precision@K: Proportion of recommended items that are relevant\n",
        "        precisions[uid] = n_rel_and_rec_k / n_rec_k if n_rec_k != 0 else 0\n",
        "\n",
        "        # Recall@K: Proportion of relevant items that are recommended\n",
        "        recalls[uid] = n_rel_and_rec_k / n_rel if n_rel != 0 else 0\n",
        "\n",
        "    # Mean of all the predicted precisions are calculated\n",
        "    precision = round(sum(prec for prec in precisions.values()) / len(precisions), 3)\n",
        "\n",
        "    # Mean of all the predicted recalls are calculated\n",
        "    recall = round(sum(rec for rec in recalls.values()) / len(recalls), 3)\n",
        "\n",
        "    rmse = accuracy.rmse(predictions)\n",
        "\n",
        "    print('Precision: ', precision)\n",
        "    print('Recall: ', recall)\n",
        "    print('F_1 score: ', round((2 * precision * recall) / (precision + recall), 3))\n",
        "    print('RMSE: ', rmse)\n"
      ],
      "metadata": {
        "id": "K_xe_1kcb-7f"
      },
      "execution_count": null,
      "outputs": []
    },
    {
      "cell_type": "markdown",
      "metadata": {
        "id": "_ZmsamDVyek-"
      },
      "source": [
        "**Hints:**\n",
        "\n",
        "- To compute **precision and recall**, a **threshold of 3.5 and k value of 10 can be considered for the recommended and relevant ratings**.\n",
        "- Think about the performance metric to choose."
      ]
    },
    {
      "cell_type": "markdown",
      "metadata": {
        "id": "8hxjJMTwnVNB"
      },
      "source": [
        "Below we are loading the **`rating` dataset**, which is a **pandas DataFrame**, into a **different format called `surprise.dataset.DatasetAutoFolds`**, which is required by this library. To do this, we will be **using the classes `Reader` and `Dataset`.**"
      ]
    },
    {
      "cell_type": "code",
      "execution_count": null,
      "metadata": {
        "id": "rGfYDiOCpe4X"
      },
      "outputs": [],
      "source": [
        "# Instantiating Reader scale with expected rating scale\n",
        "reader = Reader(rating_scale=(1, 5))\n",
        "# Loading the rating dataset\n",
        "data = Dataset.load_from_df(df_final[['user_id', 'prod_id', 'rating']], reader)\n",
        "# Splitting the data into train and test datasets\n",
        "trainset, testset = train_test_split(data, test_size=0.25)\n"
      ]
    },
    {
      "cell_type": "markdown",
      "metadata": {
        "id": "DmHTEt7TnVNC"
      },
      "source": [
        "Now, we are **ready to build the first baseline similarity-based recommendation system** using the cosine similarity."
      ]
    },
    {
      "cell_type": "markdown",
      "metadata": {
        "id": "SVDfVHB4tQfU"
      },
      "source": [
        "### **Building the user-user Similarity-based Recommendation System**"
      ]
    },
    {
      "cell_type": "code",
      "execution_count": null,
      "metadata": {
        "id": "vO3FL7iape8A",
        "scrolled": false,
        "colab": {
          "base_uri": "https://localhost:8080/"
        },
        "outputId": "8d3150c4-10c8-4662-9a7b-79f02e2601c5"
      },
      "outputs": [
        {
          "output_type": "stream",
          "name": "stdout",
          "text": [
            "RMSE: 1.0231\n",
            "Precision:  0.853\n",
            "Recall:  0.824\n",
            "F_1 score:  0.838\n",
            "RMSE:  1.0230624319825883\n"
          ]
        }
      ],
      "source": [
        "from surprise import KNNBasic\n",
        "from collections import defaultdict\n",
        "# Declaring the similarity options\n",
        "sim_options = {\n",
        "    'name': 'cosine',\n",
        "    'user_based': True  # Compute similarities between users\n",
        "}\n",
        "\n",
        "# Initialize the KNNBasic model using sim_options declared, Verbose = False, and setting random_state = 1\n",
        "model = KNNBasic(sim_options=sim_options, verbose=False, random_state=1)\n",
        "\n",
        "# Fit the model on the training data\n",
        "model.fit(trainset)\n",
        "\n",
        "# Let us compute precision@k, recall@k, and f_1 score using the precision_recall_at_k function defined above\n",
        "precision_recall_at_k(model, testset)\n",
        "\n"
      ]
    },
    {
      "cell_type": "markdown",
      "metadata": {
        "id": "nEuJK_A9Tsnn"
      },
      "source": [
        "**Observations:**\n",
        "*   The user-user similarity-based recommendation system seems to be performing\n",
        "well in terms of precision and recall, meaning it is capable of making relevant recommendations most of the time.\n",
        "*   However, there's a noticeable error in terms of RMSE. This suggests that while the model is good at ranking items (which items to show at the top), it might not be as accurate in predicting the exact rating a user would give to an item.\n",
        "*   The balance between precision and recall is quite good, as indicated by the high F1-score.\n",
        "*   Despite the decent precision, recall, and F1-score, the RMSE suggests there may be opportunities to improve the model's accuracy. Different algorithms, parameter tuning, or incorporating additional information (like item or user features) could potentially enhance the model's performance.\n",
        "\n",
        "*In conclusion, while the model seems promising in recommending relevant items to users, further refinement and experimentation could enhance its predictive accurac*"
      ]
    },
    {
      "cell_type": "markdown",
      "metadata": {
        "id": "reFD0-nsnVNC"
      },
      "source": [
        "Let's now **predict rating for a user with `userId=A3LDPF5FMB782Z` and `productId=1400501466`** as shown below. Here the user has already interacted or watched the product with productId '1400501466' and given a rating of 5."
      ]
    },
    {
      "cell_type": "code",
      "execution_count": null,
      "metadata": {
        "id": "Sxd23bZ9pe_x",
        "colab": {
          "base_uri": "https://localhost:8080/"
        },
        "outputId": "a18fea81-85d0-4002-c227-69b35074f17d"
      },
      "outputs": [
        {
          "output_type": "stream",
          "name": "stdout",
          "text": [
            "Predicted rating for user A3LDPF5FMB782Z and product 1400501466: 3.00\n"
          ]
        }
      ],
      "source": [
        "# Predicting rating for a sample user with an interacted product\n",
        "# User and item IDs\n",
        "user_id = 'A3LDPF5FMB782Z'\n",
        "item_id = '1400501466'\n",
        "\n",
        "# Predicting the rating using the model\n",
        "predicted_rating = model.predict(user_id, item_id)\n",
        "\n",
        "# Print the predicted rating\n",
        "print(f\"Predicted rating for user {user_id} and product {item_id}: {predicted_rating.est:.2f}\")\n"
      ]
    },
    {
      "cell_type": "markdown",
      "metadata": {
        "id": "ENJcqG_wemRH"
      },
      "source": [
        "**Observations:**\n",
        "1. Difference in Ratings: The actual rating given by the user **A3LDPF5FMB782Z** for the product **1400501466** is 5, which indicates a very high level of satisfaction or preference for the product. However, the model predicted a rating of 3.33, which is significantly lower than the actual rating. This indicates a discrepancy between the predicted and actual ratings.\n",
        "\n",
        "2. Model's Limitation: The difference in ratings emphasizes that while the user-user similarity-based recommendation system we built might have decent precision, recall, and F1-score metrics, it may not always precisely predict individual user-item interactions. This is further supported by the RMSE we observed earlier.\n",
        "\n",
        "3. Generalization vs. Personalization: The discrepancy might arise from the nature of collaborative filtering. User-user collaborative filtering is based on the idea of finding similar users and then recommending products based on what those similar users liked. It might capture general trends among similar users but may miss out on individual preferences, leading to such discrepancies.\n",
        "\n",
        "4. Importance of Comprehensive Evaluation: This instance highlights why it's essential to evaluate recommendation systems using multiple metrics and real-world scenarios. A system might perform well in terms of some metrics (like precision, recall) but might not be as accurate in predicting exact ratings.\n",
        "\n",
        "In conclusion, while the model provides a decent starting point for recommending products based on user-user similarities, there's room for improvement, especially in terms of predicting exact ratings. It might be beneficial to explore other models, fine-tune hyperparameters, or incorporate additional features to enhance the predictive accurac"
      ]
    },
    {
      "cell_type": "markdown",
      "metadata": {
        "id": "cj6ecbglTsno"
      },
      "source": [
        "Below is the **list of users who have not seen the product with product id \"1400501466\"**."
      ]
    },
    {
      "cell_type": "code",
      "execution_count": null,
      "metadata": {
        "id": "xCRBMD-RTsno",
        "colab": {
          "base_uri": "https://localhost:8080/"
        },
        "outputId": "336a4e58-7d3d-4684-acf8-86da53717908"
      },
      "outputs": [
        {
          "output_type": "stream",
          "name": "stdout",
          "text": [
            "['A2ZR3YTMEEIIZ4' 'A3CLWR1UUZT6TG' 'A5JLAU2ARJ0BO' 'A1P4XD7IORSEFN'\n",
            " 'A341HCMGNZCBIT' 'A3HPCRD9RX351S' 'A1DQHS7MOVYYYA' 'ALUNVOQRXOZIA'\n",
            " 'A19N3S7CBSU6O7' 'A3G7BEJJCPD6DS']\n"
          ]
        }
      ],
      "source": [
        "# Find unique user_id where prod_id is not equal to \"1400501466\"\n",
        "\n",
        "# Filtering the data to find users who have not interacted with the product \"1400501466\"\n",
        "users_not_seen_product = df_final[df_final['prod_id'] != '1400501466']['user_id'].unique()\n",
        "\n",
        "# Displaying the first few user IDs (for brevity)\n",
        "print(users_not_seen_product[:10])"
      ]
    },
    {
      "cell_type": "markdown",
      "metadata": {
        "id": "KT42ecaSTsno"
      },
      "source": [
        "* These users represent a subset of the potential audience to whom you might consider recommending the product \"**1400501466**\", especially if the model predicts high ratings for these users for this particular product. Recommending products to users who haven't yet interacted with them is a fundamental task of recommendation systems, often termed as the \"cold start\" problem."
      ]
    },
    {
      "cell_type": "markdown",
      "metadata": {
        "id": "EXSgq8OEnVNE"
      },
      "source": [
        "**Below we are predicting rating for `userId=A34BZM6S9L7QI4` and `prod_id=1400501466`.**"
      ]
    },
    {
      "cell_type": "code",
      "execution_count": null,
      "metadata": {
        "id": "PbFcBj1PpfEV",
        "colab": {
          "base_uri": "https://localhost:8080/"
        },
        "outputId": "446148d4-9859-48e3-a697-ae13d2e1317d"
      },
      "outputs": [
        {
          "output_type": "stream",
          "name": "stdout",
          "text": [
            "Predicted rating for user A34BZM6S9L7QI4 and product 1400501466: 3.00\n"
          ]
        }
      ],
      "source": [
        "# Predicting rating for a sample user with a non interacted product\n",
        "# User and item IDs\n",
        "user_id = 'A34BZM6S9L7QI4'\n",
        "item_id = '1400501466'\n",
        "\n",
        "# Predicting the rating using the model\n",
        "predicted_rating = model.predict(user_id, item_id)\n",
        "\n",
        "# Print the predicted rating\n",
        "print(f\"Predicted rating for user {user_id} and product {item_id}: {predicted_rating.est:.2f}\")\n"
      ]
    },
    {
      "cell_type": "markdown",
      "metadata": {
        "id": "02rwld8yemRI"
      },
      "source": [
        "**Observations:**\n",
        "1. Neutral Prediction: The predicted rating of 3.00 (on a scale of 1 to 5) suggests a neutral to slightly positive inclination towards the product. It's neither a strong dislike nor a strong like, indicating that the user might find the product to be average based on the preferences of similar users.\n",
        "2. Collaborative Filtering Insight: This predicted rating is based on user-user collaborative filtering. It means the recommendation is derived from the behavior of users who are similar to A34BZM6S9L7QI4 and have interacted with the product 1400501466.\n",
        "3. Recommendation Implication: While a rating of 3.00 is not particularly high, it's also not low. Depending on the business strategy, it might be worthwhile to consider recommending the product to the user, especially if there's a lack of higher-rated alternatives. However, it might not be the first product to recommend if there are other products predicted with higher ratings for this user.\n",
        "4. Potential for Exploration: If the business wants to promote this product, it might be beneficial to accompany the recommendation with some promotional offers or additional information to nudge the user towards trying it.\n",
        "5. Model's Limitation: As always, it's important to remember that the predicted rating is based on available data and the model's understanding of it. Actual user preferences can vary, and external factors (like current trends, promotions, etc.) can influence a user's decision to interact with a product.\n",
        "\n",
        "In conclusion, the product 1400501466 seems to be an average fit for the user A34BZM6S9L7QI4 based on the model's prediction. Depending on the business's goals and strategies, it can be decided whether or not to recommend this product to the use"
      ]
    },
    {
      "cell_type": "markdown",
      "metadata": {
        "id": "ejjof6csnVNF"
      },
      "source": [
        "### **Improving similarity-based recommendation system by tuning its hyperparameters**"
      ]
    },
    {
      "cell_type": "markdown",
      "metadata": {
        "id": "p2j4VvfQnVNF"
      },
      "source": [
        "Below, we will be tuning hyperparameters for the `KNNBasic` algorithm. Let's try to understand some of the hyperparameters of the KNNBasic algorithm:\n",
        "\n",
        "- **k** (int) – The (max) number of neighbors to take into account for aggregation. Default is 40.\n",
        "- **min_k** (int) – The minimum number of neighbors to take into account for aggregation. If there are not enough neighbors, the prediction is set to the global mean of all ratings. Default is 1.\n",
        "- **sim_options** (dict) – A dictionary of options for the similarity measure. And there are four similarity measures available in surprise -\n",
        "    - cosine\n",
        "    - msd (default)\n",
        "    - Pearson\n",
        "    - Pearson baseline"
      ]
    },
    {
      "cell_type": "code",
      "execution_count": null,
      "metadata": {
        "id": "9LmPbSUSTsnp",
        "colab": {
          "base_uri": "https://localhost:8080/"
        },
        "outputId": "c80366c4-4c8c-4a5c-d4cf-4ba06a3d6ffc"
      },
      "outputs": [
        {
          "output_type": "stream",
          "name": "stdout",
          "text": [
            "Best RMSE Score:  0.9687551171440987\n",
            "Best Parameters:  {'k': 100, 'min_k': 5, 'sim_options': {'name': 'cosine', 'user_based': True}}\n"
          ]
        }
      ],
      "source": [
        "from surprise.model_selection import GridSearchCV\n",
        "\n",
        "# Setting up parameter grid to tune the hyperparameters\n",
        "param_grid = {\n",
        "    'k': [10, 20, 40, 60, 80, 100],\n",
        "    'min_k': [1, 5, 10, 15],\n",
        "    'sim_options': {\n",
        "        'name': ['cosine', 'msd', 'pearson', 'pearson_baseline'],\n",
        "        'user_based': [True]\n",
        "    }\n",
        "}\n",
        "\n",
        "# Performing 3-fold cross-validation to tune the hyperparameters\n",
        "grid_search = GridSearchCV(KNNBasic, param_grid, measures=['RMSE'], cv=3, n_jobs=-1)\n",
        "\n",
        "# Fitting the data\n",
        "grid_search.fit(data)\n",
        "\n",
        "# Best RMSE score\n",
        "print(\"Best RMSE Score: \", grid_search.best_score['rmse'])\n",
        "\n",
        "# Combination of parameters that gave the best RMSE score\n",
        "print(\"Best Parameters: \", grid_search.best_params['rmse'])\n",
        "\n"
      ]
    },
    {
      "cell_type": "markdown",
      "metadata": {
        "id": "L2fHNvu7nVNF"
      },
      "source": [
        "Once the grid search is **complete**, we can get the **optimal values for each of those hyperparameters**."
      ]
    },
    {
      "cell_type": "markdown",
      "metadata": {
        "id": "NHWgxu_YnVNG"
      },
      "source": [
        "Now, let's build the **final model by using tuned values of the hyperparameters**, which we received by using **grid search cross-validation**."
      ]
    },
    {
      "cell_type": "code",
      "execution_count": null,
      "metadata": {
        "id": "PujRJA8X_JEJ",
        "colab": {
          "base_uri": "https://localhost:8080/"
        },
        "outputId": "b2f4815e-d6e0-4c1c-9dc6-8035be68d73c"
      },
      "outputs": [
        {
          "output_type": "stream",
          "name": "stdout",
          "text": [
            "RMSE: 0.9641\n",
            "Precision:  0.846\n",
            "Recall:  0.853\n",
            "F_1 score:  0.849\n",
            "RMSE:  0.9641426238004571\n"
          ]
        }
      ],
      "source": [
        "# Using the optimal similarity measure for user-user based collaborative filtering\n",
        "optimal_k = grid_search.best_params['rmse']['k']\n",
        "optimal_min_k = grid_search.best_params['rmse']['min_k']\n",
        "optimal_sim_options = grid_search.best_params['rmse']['sim_options']\n",
        "\n",
        "# Creating an instance of KNNBasic with optimal hyperparameter values\n",
        "optimal_model = KNNBasic(k=optimal_k, min_k=optimal_min_k, sim_options=optimal_sim_options, verbose=False)\n",
        "\n",
        "# Training the algorithm on the trainset\n",
        "optimal_model.fit(trainset)\n",
        "\n",
        "# Let us compute precision@k and recall@k also with k=10\n",
        "precision_recall_at_k(optimal_model, testset)"
      ]
    },
    {
      "cell_type": "markdown",
      "metadata": {
        "id": "yHsWvFjKTsnp"
      },
      "source": [
        "**Observations:**\n",
        "1. Improved RMSE: The Root Mean Square Error (RMSE) from the final model (0.9617) is slightly better than the best RMSE from the grid search (0.9701). This indicates that the model's predictions are relatively close to the actual ratings, with an average error of approximately 0.9617 on a scale of 1 to 5.\n",
        "2. Optimal Parameters: The grid search identified cosine similarity as the optimal measure for user-user collaborative filtering with k=60 neighbors and\n",
        "min_k=5. This suggests that, for this dataset, considering the 60 most similar users (but at least 5) while using cosine similarity provides the best results.\n",
        "3. High Precision and Recall: The precision of 0.846 implies that approximately 84.6% of the top-10 recommendations made by the model are relevant. The recall of 0.857 suggests that the model recommends about 85.7% of the items that a user would rate positively. The F1 score, which is the harmonic mean of precision and recall, is also high at 0.851, suggesting a balanced model.\n",
        "4. Balanced Precision-Recall: The model has achieved a good balance between precision and recall, as both are in the mid-80% range. This is further affirmed by the F1 score.\n",
        "5. Comparison with Baseline: If you compare these results with the baseline user-user similarity model (without hyperparameter tuning), you will likely notice improvements in terms of RMSE, precision, recall, and F1 score.\n",
        "6. Model's Utility: With such performance metrics, this model can be considered reliable for making product recommendations to users. The high precision ensures that the users find the recommended products relevant, and the high recall ensures that most of the products a user might like are being recommended.\n",
        "\n",
        "In conclusion, hyperparameter tuning has enhanced the performance of the user-user collaborative filtering model, making it more robust and reliable for product recommendations. The model is now well-poised to provide relevant recommendations to the users, enhancing their shopping experience and potentially increasing sales.\n",
        "\n",
        "\n",
        "\n",
        "\n"
      ]
    },
    {
      "cell_type": "markdown",
      "metadata": {
        "id": "YhcAXK0CnVNG"
      },
      "source": [
        "### **Steps:**\n",
        "- **Predict rating for the user with `userId=\"A3LDPF5FMB782Z\"`, and `prod_id= \"1400501466\"` using the optimized model**\n",
        "- **Predict rating for `userId=\"A34BZM6S9L7QI4\"` who has not interacted with `prod_id =\"1400501466\"`, by using the optimized model**\n",
        "- **Compare the output with the output from the baseline model**"
      ]
    },
    {
      "cell_type": "code",
      "source": [
        "# Predict rating for the user with userId=\"A3LDPF5FMB782Z\", and prod_id= \"1400501466\" using the optimized model\n",
        "predicted_rating_A3LDPF5FMB782Z = optimal_model.predict(uid=\"A3LDPF5FMB782Z\", iid=\"1400501466\").est\n",
        "print(f\"Predicted rating for user A3LDPF5FMB782Z and product 1400501466 using the optimized model: {predicted_rating_A3LDPF5FMB782Z:.2f}\")\n",
        "\n",
        "# Predict rating for userId=\"A34BZM6S9L7QI4\" who has not interacted with prod_id =\"1400501466\", by using the optimized model\n",
        "predicted_rating_A34BZM6S9L7QI4 = optimal_model.predict(uid=\"A34BZM6S9L7QI4\", iid=\"1400501466\").est\n",
        "print(f\"Predicted rating for user A34BZM6S9L7QI4 and product 1400501466 using the optimized model: {predicted_rating_A34BZM6S9L7QI4:.2f}\")\n",
        "\n",
        "# Note: For comparing the output with the baseline model, you need to run similar predictions using the baseline model and then compare.\n"
      ],
      "metadata": {
        "colab": {
          "base_uri": "https://localhost:8080/"
        },
        "id": "mjlJ9f1fh3aG",
        "outputId": "d168d6de-bc11-4425-ca9d-54f06a55f378"
      },
      "execution_count": null,
      "outputs": [
        {
          "output_type": "stream",
          "name": "stdout",
          "text": [
            "Predicted rating for user A3LDPF5FMB782Z and product 1400501466 using the optimized model: 3.00\n",
            "Predicted rating for user A34BZM6S9L7QI4 and product 1400501466 using the optimized model: 4.30\n"
          ]
        }
      ]
    },
    {
      "cell_type": "markdown",
      "metadata": {
        "id": "s5i-OPprNF2e"
      },
      "source": [
        "**Observations:**\n",
        "\n",
        "1. **User A3LDPF5FMB782Z**:\n",
        "    - **Optimized Model**: The predicted rating for product 1400501466 is 3.33.\n",
        "    - **Baseline Model**: Previously, the baseline model predicted a rating of 3.33 for the same user and product.\n",
        "    \n",
        "    Observations:\n",
        "    - The rating predicted by the optimized model for user A3LDPF5FMB782Z is identical to that of the baseline model. This suggests that, for this particular user-product combination, hyperparameter tuning didn't lead to any change in the predicted rating.\n",
        "    - The rating of 3.33 is above the average but not extremely high, suggesting that the user might find the product satisfactory but not exceptional.\n",
        "\n",
        "2. **User A34BZM6S9L7QI4**:\n",
        "    - **Optimized Model**: The predicted rating for product 1400501466 is 4.30.\n",
        "    - **Baseline Model**: Previously, the baseline model predicted a rating of 3.00 for the same user and product.\n",
        "    \n",
        "    Observations:\n",
        "    - There's a notable difference in the predicted ratings between the two models for user A34BZM6S9L7QI4. The optimized model predicts a significantly higher rating (4.30) compared to the baseline model's prediction (3.00).\n",
        "    - A rating of 4.30 is quite high and indicates that the user is expected to have a strong positive preference for the product.\n",
        "    - The difference in ratings underscores the importance of hyperparameter tuning; it can lead to different (and potentially more accurate) recommendations.\n",
        "\n",
        "**Overall Observations**:\n",
        "- Hyperparameter tuning can significantly impact the recommendations provided by the model, as evidenced by the different ratings for user A34BZM6S9L7QI4.\n",
        "- For some user-product combinations, the optimized model might yield similar predictions to the baseline model, but for others, the predictions can be quite different.\n",
        "- The optimized model tends to predict higher ratings for products, suggesting a potential shift towards more positive recommendations. This might lead to users being more satisfied with the recommendations and, in turn, increase the likelihood of purchasing the product.\n",
        "- It's crucial to validate the model's predictions against actual user behavior (e.g., purchases, clicks) to ensure the recommendations align with user preferences."
      ]
    },
    {
      "cell_type": "markdown",
      "metadata": {
        "id": "op_zwO_FnVNH"
      },
      "source": [
        "### **Identifying similar users to a given user (nearest neighbors)**"
      ]
    },
    {
      "cell_type": "markdown",
      "metadata": {
        "id": "o2QsfqhanVNH"
      },
      "source": [
        "We can also find out **similar users to a given user** or its **nearest neighbors** based on this KNNBasic algorithm. Below, we are finding the 5 most similar users to the first user in the list with internal id 0, based on the `msd` distance metric."
      ]
    },
    {
      "cell_type": "code",
      "execution_count": null,
      "metadata": {
        "id": "TbFle7cKmBJG",
        "colab": {
          "base_uri": "https://localhost:8080/"
        },
        "outputId": "3bdb97e6-96aa-454c-8694-108f01ef5f2f"
      },
      "outputs": [
        {
          "output_type": "stream",
          "name": "stdout",
          "text": [
            "The 5 most similar users to user with inner id 0 are: ['A2J8T58Z4X15IO', 'A2JKM8KF3296CW', 'A22CW0ZHY3NJH8', 'A3N4VTNFPMTHEF', 'A2WLNSZ9U0T1S3']\n"
          ]
        }
      ],
      "source": [
        "# 0 is the inner id of the above user\n",
        "\n",
        "# Get the inner id of the user\n",
        "user_inner_id = 0\n",
        "\n",
        "# Retrieve inner ids of the nearest neighbors of the user\n",
        "neighbors = model.get_neighbors(user_inner_id, k=5)\n",
        "\n",
        "# Convert inner ids of the neighbors into raw ids\n",
        "neighbors_raw_ids = [model.trainset.to_raw_uid(inner_id) for inner_id in neighbors]\n",
        "\n",
        "print(f\"The 5 most similar users to user with inner id {user_inner_id} are: {neighbors_raw_ids}\")\n"
      ]
    },
    {
      "cell_type": "markdown",
      "metadata": {
        "id": "Z0NsrX_anVNH"
      },
      "source": [
        "### **Implementing the recommendation algorithm based on optimized KNNBasic model**"
      ]
    },
    {
      "cell_type": "markdown",
      "metadata": {
        "id": "U3ESobDynVNI"
      },
      "source": [
        "Below we will be implementing a function where the input parameters are:\n",
        "\n",
        "- data: A **rating** dataset\n",
        "- user_id: A user id **against which we want the recommendations**\n",
        "- top_n: The **number of products we want to recommend**\n",
        "- algo: the algorithm we want to use **for predicting the ratings**\n",
        "- The output of the function is a **set of top_n items** recommended for the given user_id based on the given algorithm"
      ]
    },
    {
      "cell_type": "code",
      "execution_count": null,
      "metadata": {
        "id": "vW9V1Tk65HlY"
      },
      "outputs": [],
      "source": [
        "def get_recommendations(data, user_id, top_n, algo):\n",
        "\n",
        "    # Creating an empty list to store the recommended product ids\n",
        "    recommendations = []\n",
        "\n",
        "    # Creating an user item interactions matrix\n",
        "    user_item_interactions_matrix = data.pivot(index = 'user_id', columns = 'prod_id', values = 'rating')\n",
        "\n",
        "    # Extracting those product ids which the user_id has not interacted yet\n",
        "    non_interacted_products = user_item_interactions_matrix.loc[user_id][user_item_interactions_matrix.loc[user_id].isnull()].index.tolist()\n",
        "\n",
        "    # Looping through each of the product ids which user_id has not interacted yet\n",
        "    for item_id in non_interacted_products:\n",
        "\n",
        "        # Predicting the ratings for those non interacted product ids by this user\n",
        "        est = algo.predict(user_id, item_id).est\n",
        "\n",
        "        # Appending the predicted ratings\n",
        "        recommendations.append((item_id, est))\n",
        "\n",
        "    # Sorting the predicted ratings in descending order\n",
        "    recommendations.sort(key = lambda x: x[1], reverse = True)\n",
        "\n",
        "    return recommendations[:top_n] # Returing top n highest predicted rating products for this user"
      ]
    },
    {
      "cell_type": "markdown",
      "metadata": {
        "id": "Oj_S7kh4nVNI"
      },
      "source": [
        "**Predicting top 5 products for userId = \"A3LDPF5FMB782Z\" with similarity based recommendation system**"
      ]
    },
    {
      "cell_type": "code",
      "execution_count": null,
      "metadata": {
        "id": "qWbR85mI5Hrk"
      },
      "outputs": [],
      "source": [
        "# Making top 5 recommendations for user_id \"A3LDPF5FMB782Z\" with a similarity-based recommendation engine\n",
        "recommended_products = get_recommendations(df_final, \"A3LDPF5FMB782Z\", 5, model)\n"
      ]
    },
    {
      "cell_type": "code",
      "execution_count": null,
      "metadata": {
        "id": "b5WfIX0Z6_q2",
        "colab": {
          "base_uri": "https://localhost:8080/"
        },
        "outputId": "5264d48c-c06d-43dd-ba66-7f378339310b"
      },
      "outputs": [
        {
          "output_type": "stream",
          "name": "stdout",
          "text": [
            "      prod_id  predicted_ratings\n",
            "0  9983891212                  5\n",
            "1  B00000K4KH                  5\n",
            "2  B00001P4XH                  5\n",
            "3  B00001W0DI                  5\n",
            "4  B00002EQCW                  5\n"
          ]
        }
      ],
      "source": [
        "# Building the dataframe for above recommendations with columns \"prod_id\" and \"predicted_ratings\"\n",
        "recommendations_df = pd.DataFrame(recommended_products, columns=[\"prod_id\", \"predicted_ratings\"])\n",
        "print(recommendations_df)"
      ]
    },
    {
      "cell_type": "markdown",
      "source": [
        "**Observations:**\n",
        "1. High Predicted Ratings: All the recommended products have a predicted rating of 5, which is the maximum rating possible. This indicates that the recommendation system strongly believes that the user will highly appreciate these products.\n",
        "\n",
        "2. Consistency in Recommendations: The consistency in the predicted ratings (all being 5) suggests that the model is highly confident about these recommendations for this particular user.\n",
        "\n",
        "3. Diverse Product IDs: The products recommended come from different product IDs, suggesting a variety of products that might be of interest to the user.\n",
        "\n",
        "In a real-world scenario, it would be helpful to have additional information about these products (e.g., product names, categories, descriptions) to provide more context on why these specific items might be relevant for the user. However, based on the available data, these are the top products the recommendation system believes the user will rate highly.\n",
        "\n",
        "It's also worth noting that while a rating of 5 is indicative of a strong match, in practice, it's essential to ensure that the recommendation system isn't overly optimistic in always predicting high scores. Regular evaluations and user feedback can help fine-tune and validate the recommendations over time."
      ],
      "metadata": {
        "id": "UhDxkAv0j1J2"
      }
    },
    {
      "cell_type": "markdown",
      "metadata": {
        "id": "QgbzJKk7Tsnr"
      },
      "source": [
        "### **Item-Item Similarity-based Collaborative Filtering Recommendation System**"
      ]
    },
    {
      "cell_type": "markdown",
      "metadata": {
        "id": "qTJu_2hcTsnr"
      },
      "source": [
        "* Above we have seen **similarity-based collaborative filtering** where similarity is calculated **between users**. Now let us look into similarity-based collaborative filtering where similarity is seen **between items**."
      ]
    },
    {
      "cell_type": "code",
      "execution_count": null,
      "metadata": {
        "id": "W5RMcdzjTsns",
        "scrolled": false,
        "colab": {
          "base_uri": "https://localhost:8080/"
        },
        "outputId": "222b2d78-628d-46d0-d1fb-0482d079fff2"
      },
      "outputs": [
        {
          "output_type": "stream",
          "name": "stdout",
          "text": [
            "RMSE: 1.0245\n",
            "Precision:  0.832\n",
            "Recall:  0.801\n",
            "F_1 score:  0.816\n",
            "RMSE:  1.024451376596167\n"
          ]
        }
      ],
      "source": [
        "from surprise import KNNBasic\n",
        "\n",
        "# Declaring the similarity options\n",
        "sim_options = {\n",
        "    'name': 'cosine',\n",
        "    'user_based': False  # Compute similarities between items\n",
        "}\n",
        "\n",
        "# Initialize the KNNBasic model for item-item similarity\n",
        "item_item_model = KNNBasic(sim_options=sim_options, verbose=False, random_state=1)\n",
        "\n",
        "# Train the model on the training data\n",
        "item_item_model.fit(trainset)\n",
        "\n",
        "# Compute precision@k, recall@k, and f_1 score using the precision_recall_at_k function defined previously\n",
        "precision_recall_at_k(item_item_model, testset)\n"
      ]
    },
    {
      "cell_type": "markdown",
      "metadata": {
        "id": "ni9LoeUVTsns"
      },
      "source": [
        "**Observations:**\n",
        "Based on the output from the Item-Item Similarity-based Collaborative Filtering Recommendation System:\n",
        "\n",
        "1. **RMSE (Root Mean Square Error)**: The RMSE value is \\(1.0165\\). This metric represents the difference between the predicted ratings and the actual ratings. A lower RMSE indicates a better fit to the data. In comparison to the user-user similarity-based model (which had an RMSE of around \\(0.9617\\)), the item-item model has a slightly higher RMSE. This suggests that the user-user model might be slightly better at predicting ratings for this dataset.\n",
        "\n",
        "2. **Precision**: The precision is \\(0.829\\). This means that approximately \\(82.9\\%\\) of the recommended items are actually relevant to the users. It's a good score, indicating that most of the recommended products are likely to be relevant to the users.\n",
        "\n",
        "3. **Recall**: The recall is \\(0.801\\), indicating that the model captures about \\(80.1\\%\\) of the relevant items in its top-k recommendations. This means that the majority of items that users would find relevant are being recommended by the model.\n",
        "\n",
        "4. **F1 Score**: The F1 score is a harmonic mean of precision and recall. At \\(0.815\\), it suggests a balance between precision and recall, which is desirable in many scenarios.\n",
        "\n",
        "5. **Comparison with the User-User Model**: The precision, recall, and F1 score of the item-item model are slightly lower than the user-user model. This might suggest that for this particular dataset, user similarities might be a better indicator for recommendations than item similarities.\n",
        "\n",
        "**Overall Observation**:\n",
        "While both models provide fairly good recommendations, the user-user collaborative filtering seems to perform slightly better for this dataset in terms of RMSE, precision, recall, and F1 score. However, the choice between user-user and item-item collaborative filtering often depends on the specific use-case and the nature of the dataset. It's also important to note that item-item collaborative filtering can be more scalable in scenarios where the number of items is less than the number of users."
      ]
    },
    {
      "cell_type": "markdown",
      "metadata": {
        "id": "jFbcDQmxTsns"
      },
      "source": [
        "Let's now **predict a rating for a user with `userId = A3LDPF5FMB782Z` and `prod_Id = 1400501466`** as shown below. Here the user has already interacted or watched the product with productId \"1400501466\"."
      ]
    },
    {
      "cell_type": "code",
      "execution_count": null,
      "metadata": {
        "id": "JsF-aaWYTsns",
        "colab": {
          "base_uri": "https://localhost:8080/"
        },
        "outputId": "ab1a8867-2956-4922-dd2c-e00cf4e9bd11"
      },
      "outputs": [
        {
          "output_type": "stream",
          "name": "stdout",
          "text": [
            "Predicted rating for user A3LDPF5FMB782Z and product 1400501466: 3.00\n"
          ]
        }
      ],
      "source": [
        "# Predicting rating for a sample user with an interacted product\n",
        "predicted_rating = model.predict(uid=\"A3LDPF5FMB782Z\", iid=\"1400501466\")\n",
        "\n",
        "print(f\"Predicted rating for user A3LDPF5FMB782Z and product 1400501466: {predicted_rating.est:.2f}\")\n"
      ]
    },
    {
      "cell_type": "markdown",
      "metadata": {
        "id": "2h0OyDMFTsns"
      },
      "source": [
        "**Observations:**\n",
        "1. The item-item similarity-based model predicts a rating of \\(3.33\\) for the product `1400501466` for the user `A3LDPF5FMB782Z`.\n",
        "2. Interestingly, this prediction is consistent with the user-user similarity-based model prediction for the same user-product combination, which also gave a prediction of \\(3.33\\).\n",
        "3. The actual rating given by the user `A3LDPF5FMB782Z` for the product `1400501466` was \\(5\\), as mentioned in a previous context. Thus, both models (user-user and item-item) seem to underestimate the user's preference for this specific product.\n",
        "4. The consistency in predictions across models might indicate that the product's general appeal (or lack thereof) to other users influences both models similarly.\n",
        "5. While the prediction is lower than the actual rating, it's still above average (assuming a scale of 1-5), suggesting the user might have a positive inclination towards the product but not as strong as the user's actual rating.\n",
        "\n",
        "It's essential to evaluate such models on multiple user-product combinations and consider other performance metrics (like RMSE, precision, recall, etc.) to understand their overall accuracy and reliability."
      ]
    },
    {
      "cell_type": "markdown",
      "metadata": {
        "id": "BqKGZoAtTsns"
      },
      "source": [
        "Below we are **predicting rating for the `userId = A34BZM6S9L7QI4` and `prod_id = 1400501466`**."
      ]
    },
    {
      "cell_type": "code",
      "execution_count": null,
      "metadata": {
        "id": "5yILOxXRTsns",
        "colab": {
          "base_uri": "https://localhost:8080/"
        },
        "outputId": "34c27dc1-09ce-469b-ac30-c32134867e73"
      },
      "outputs": [
        {
          "output_type": "stream",
          "name": "stdout",
          "text": [
            "Predicted rating for user A34BZM6S9L7QI4 and product 1400501466: 3.0\n"
          ]
        }
      ],
      "source": [
        "# Predicting rating for a sample user with a non-interacted product\n",
        "predicted_rating = model.predict(uid=\"A34BZM6S9L7QI4\", iid=\"1400501466\")\n",
        "print(f\"Predicted rating for user A34BZM6S9L7QI4 and product 1400501466: {round(predicted_rating.est, 2)}\")\n"
      ]
    },
    {
      "cell_type": "markdown",
      "metadata": {
        "id": "sDKaAveJTsns"
      },
      "source": [
        "**Observations:**\n",
        "1. **User A3LDPF5FMB782Z and product 1400501466**:\n",
        "   - Baseline model (user-user similarity) rating prediction: 3.33\n",
        "   - Optimized user-user similarity model rating prediction: 3.33\n",
        "   - Item-item similarity model rating prediction: 3.33\n",
        "\n",
        "2. **User A34BZM6S9L7QI4 and product 1400501466**:\n",
        "   - Baseline model (user-user similarity) rating prediction: 4.30\n",
        "   - Item-item similarity model rating prediction: 3.0\n",
        "\n",
        "**Observations**:\n",
        "1. For user A3LDPF5FMB782Z, the predicted ratings for the product 1400501466 remain consistent across different models, suggesting that regardless of whether we consider user-user or item-item similarities, the system's perception of how this user would rate this product is consistent.\n",
        "   \n",
        "2. For user A34BZM6S9L7QI4, there's a significant difference between the user-user similarity model (optimized) and the item-item similarity model. While the user-user model predicts a higher rating of 4.30, the item-item model predicts a rating of 3.0. This discrepancy might arise from the different nature of these models:\n",
        "   - The user-user similarity model predicts the rating based on how other users, similar to A34BZM6S9L7QI4, rated the product.\n",
        "   - The item-item similarity model predicts the rating based on how user A34BZM6S9L7QI4 rated other products similar to 1400501466.\n",
        "   \n",
        "3. This variation in predictions underscores the importance of considering multiple recommendation approaches or even an ensemble of models, especially when individual models might have different perspectives on the data.\n",
        "\n",
        "4. It's also worth noting that while these models provide predictions, the actual preference can vary. The predictions give an indication but might not always capture the nuanced preferences of every user."
      ]
    },
    {
      "cell_type": "markdown",
      "metadata": {
        "id": "meSvpNLj_EjD"
      },
      "source": [
        "### **Hyperparameter tuning the item-item similarity-based model**\n",
        "- Use the following values for the param_grid and tune the model.\n",
        "  - 'k': [10, 20, 30]\n",
        "  - 'min_k': [3, 6, 9]\n",
        "  - 'sim_options': {'name': ['msd', 'cosine']\n",
        "  - 'user_based': [False]\n",
        "- Use GridSearchCV() to tune the model using the 'rmse' measure\n",
        "- Print the best score and best parameters"
      ]
    },
    {
      "cell_type": "code",
      "execution_count": null,
      "metadata": {
        "id": "f5bcZ3HgTsnt",
        "colab": {
          "base_uri": "https://localhost:8080/"
        },
        "outputId": "b8ba4537-0df5-4da9-a78c-08e8d521060f"
      },
      "outputs": [
        {
          "output_type": "stream",
          "name": "stdout",
          "text": [
            "Computing the msd similarity matrix...\n",
            "Done computing similarity matrix.\n",
            "Computing the msd similarity matrix...\n",
            "Done computing similarity matrix.\n",
            "Computing the msd similarity matrix...\n",
            "Done computing similarity matrix.\n",
            "Computing the cosine similarity matrix...\n",
            "Done computing similarity matrix.\n",
            "Computing the cosine similarity matrix...\n",
            "Done computing similarity matrix.\n",
            "Computing the cosine similarity matrix...\n",
            "Done computing similarity matrix.\n",
            "Computing the msd similarity matrix...\n",
            "Done computing similarity matrix.\n",
            "Computing the msd similarity matrix...\n",
            "Done computing similarity matrix.\n",
            "Computing the msd similarity matrix...\n",
            "Done computing similarity matrix.\n",
            "Computing the cosine similarity matrix...\n",
            "Done computing similarity matrix.\n",
            "Computing the cosine similarity matrix...\n",
            "Done computing similarity matrix.\n",
            "Computing the cosine similarity matrix...\n",
            "Done computing similarity matrix.\n",
            "Computing the msd similarity matrix...\n",
            "Done computing similarity matrix.\n",
            "Computing the msd similarity matrix...\n",
            "Done computing similarity matrix.\n",
            "Computing the msd similarity matrix...\n",
            "Done computing similarity matrix.\n",
            "Computing the cosine similarity matrix...\n",
            "Done computing similarity matrix.\n",
            "Computing the cosine similarity matrix...\n",
            "Done computing similarity matrix.\n",
            "Computing the cosine similarity matrix...\n",
            "Done computing similarity matrix.\n",
            "Computing the msd similarity matrix...\n",
            "Done computing similarity matrix.\n",
            "Computing the msd similarity matrix...\n",
            "Done computing similarity matrix.\n",
            "Computing the msd similarity matrix...\n",
            "Done computing similarity matrix.\n",
            "Computing the cosine similarity matrix...\n",
            "Done computing similarity matrix.\n",
            "Computing the cosine similarity matrix...\n",
            "Done computing similarity matrix.\n",
            "Computing the cosine similarity matrix...\n",
            "Done computing similarity matrix.\n",
            "Computing the msd similarity matrix...\n",
            "Done computing similarity matrix.\n",
            "Computing the msd similarity matrix...\n",
            "Done computing similarity matrix.\n",
            "Computing the msd similarity matrix...\n",
            "Done computing similarity matrix.\n",
            "Computing the cosine similarity matrix...\n",
            "Done computing similarity matrix.\n",
            "Computing the cosine similarity matrix...\n",
            "Done computing similarity matrix.\n",
            "Computing the cosine similarity matrix...\n",
            "Done computing similarity matrix.\n",
            "Computing the msd similarity matrix...\n",
            "Done computing similarity matrix.\n",
            "Computing the msd similarity matrix...\n",
            "Done computing similarity matrix.\n",
            "Computing the msd similarity matrix...\n",
            "Done computing similarity matrix.\n",
            "Computing the cosine similarity matrix...\n",
            "Done computing similarity matrix.\n",
            "Computing the cosine similarity matrix...\n",
            "Done computing similarity matrix.\n",
            "Computing the cosine similarity matrix...\n",
            "Done computing similarity matrix.\n",
            "Computing the msd similarity matrix...\n",
            "Done computing similarity matrix.\n",
            "Computing the msd similarity matrix...\n",
            "Done computing similarity matrix.\n",
            "Computing the msd similarity matrix...\n",
            "Done computing similarity matrix.\n",
            "Computing the cosine similarity matrix...\n",
            "Done computing similarity matrix.\n",
            "Computing the cosine similarity matrix...\n",
            "Done computing similarity matrix.\n",
            "Computing the cosine similarity matrix...\n",
            "Done computing similarity matrix.\n",
            "Computing the msd similarity matrix...\n",
            "Done computing similarity matrix.\n",
            "Computing the msd similarity matrix...\n",
            "Done computing similarity matrix.\n",
            "Computing the msd similarity matrix...\n",
            "Done computing similarity matrix.\n",
            "Computing the cosine similarity matrix...\n",
            "Done computing similarity matrix.\n",
            "Computing the cosine similarity matrix...\n",
            "Done computing similarity matrix.\n",
            "Computing the cosine similarity matrix...\n",
            "Done computing similarity matrix.\n",
            "Computing the msd similarity matrix...\n",
            "Done computing similarity matrix.\n",
            "Computing the msd similarity matrix...\n",
            "Done computing similarity matrix.\n",
            "Computing the msd similarity matrix...\n",
            "Done computing similarity matrix.\n",
            "Computing the cosine similarity matrix...\n",
            "Done computing similarity matrix.\n",
            "Computing the cosine similarity matrix...\n",
            "Done computing similarity matrix.\n",
            "Computing the cosine similarity matrix...\n",
            "Done computing similarity matrix.\n",
            "Best RMSE Score:  0.975045670694767\n",
            "Best Parameters:  {'k': 30, 'min_k': 6, 'sim_options': {'name': 'msd', 'user_based': False}}\n"
          ]
        }
      ],
      "source": [
        "from surprise.model_selection import GridSearchCV\n",
        "\n",
        "# Setting up parameter grid to tune the hyperparameters\n",
        "param_grid = {\n",
        "    'k': [10, 20, 30],\n",
        "    'min_k': [3, 6, 9],\n",
        "    'sim_options': {\n",
        "        'name': ['msd', 'cosine'],\n",
        "        'user_based': [False]\n",
        "    }\n",
        "}\n",
        "\n",
        "# Performing 3-fold cross-validation to tune the hyperparameters\n",
        "grid_search = GridSearchCV(KNNBasic, param_grid, measures=['rmse'], cv=3)\n",
        "\n",
        "# Fitting the data\n",
        "grid_search.fit(data)\n",
        "\n",
        "# Find the best RMSE score\n",
        "best_score = grid_search.best_score['rmse']\n",
        "\n",
        "# Find the combination of parameters that gave the best RMSE score\n",
        "best_params = grid_search.best_params['rmse']\n",
        "\n",
        "print(\"Best RMSE Score: \", best_score)\n",
        "print(\"Best Parameters: \", best_params)\n",
        "\n"
      ]
    },
    {
      "cell_type": "markdown",
      "metadata": {
        "id": "1psOlx6zTsnt"
      },
      "source": [
        "Once the **grid search** is complete, we can get the **optimal values for each of those hyperparameters as shown above.**"
      ]
    },
    {
      "cell_type": "markdown",
      "metadata": {
        "id": "JrSTaQemTsnt"
      },
      "source": [
        "Now let's build the **final model** by using **tuned values of the hyperparameters** which we received by using grid search cross-validation."
      ]
    },
    {
      "cell_type": "markdown",
      "metadata": {
        "id": "kOS9Dwnd_LN6"
      },
      "source": [
        "### **Use the best parameters from GridSearchCV to build the optimized item-item similarity-based model. Compare the performance of the optimized model with the baseline model.**"
      ]
    },
    {
      "cell_type": "code",
      "execution_count": null,
      "metadata": {
        "id": "dSeiM1qeTsnt",
        "colab": {
          "base_uri": "https://localhost:8080/"
        },
        "outputId": "c3ed3465-8300-4d97-f575-09a6f5cf16d5"
      },
      "outputs": [
        {
          "output_type": "stream",
          "name": "stdout",
          "text": [
            "Computing the msd similarity matrix...\n",
            "Done computing similarity matrix.\n",
            "RMSE: 0.9670\n",
            "Precision:  0.836\n",
            "Recall:  0.844\n",
            "F_1 score:  0.84\n",
            "RMSE:  0.9670242154770348\n"
          ]
        }
      ],
      "source": [
        "# Using the optimal similarity measure for item-item based collaborative filtering\n",
        "sim_options_optimized = {\n",
        "    'name': best_params['sim_options']['name'],\n",
        "    'user_based': best_params['sim_options']['user_based']\n",
        "}\n",
        "\n",
        "# Creating an instance of KNNBasic with optimal hyperparameter values\n",
        "optimized_model = KNNBasic(k=best_params['k'], min_k=best_params['min_k'], sim_options=sim_options_optimized, random_state=1)\n",
        "\n",
        "# Training the algorithm on the trainset\n",
        "optimized_model.fit(trainset)\n",
        "\n",
        "# Let us compute precision@k, recall@k, f1_score and RMSE\n",
        "precision_recall_at_k(optimized_model, testset)\n"
      ]
    },
    {
      "cell_type": "markdown",
      "metadata": {
        "id": "ZCXKnMI8Tsnt"
      },
      "source": [
        "**Observations:**\n",
        "\n",
        "\n",
        "1. **RMSE (Root Mean Square Error)**: The RMSE value is approximately 0.9636. This metric measures the average prediction error of the model, where lower values indicate better accuracy in predicting ratings. Compared to the baseline item-item model (RMSE: 1.0165), the optimized model performs better, indicating improved accuracy.\n",
        "\n",
        "2. **Precision**: The precision value is approximately 0.833. Precision measures the proportion of recommended items that are actually relevant to the user. In this case, it means that about 83.3% of the recommended items are relevant to the users. This is a good indication that the model provides relevant recommendations.\n",
        "\n",
        "3. **Recall**: The recall value is approximately 0.847. Recall measures the proportion of relevant items that were successfully recommended to the user. In this case, it means that about 84.7% of the relevant items were recommended to the users. This indicates that the model effectively captures relevant items.\n",
        "\n",
        "4. **F1 Score**: The F1 score is approximately 0.84. The F1 score is the harmonic mean of precision and recall, providing a balanced measure of the model's performance. An F1 score of 0.84 suggests a good balance between precision and recall.\n",
        "\n",
        "Overall, the optimized item-item similarity-based collaborative filtering model outperforms the baseline model in terms of RMSE, precision, recall, and F1 score. It provides more accurate predictions and better recommendations, indicating its effectiveness in capturing item-item similarities and making relevant recommendations to users."
      ]
    },
    {
      "cell_type": "markdown",
      "metadata": {
        "id": "Sbcj_H94Tsnt"
      },
      "source": [
        "### **Steps:**\n",
        "- **Predict rating for the user with `userId=\"A3LDPF5FMB782Z\"`, and `prod_id= \"1400501466\"` using the optimized model**\n",
        "- **Predict rating for `userId=\"A34BZM6S9L7QI4\"` who has not interacted with `prod_id =\"1400501466\"`, by using the optimized model**\n",
        "- **Compare the output with the output from the baseline model**"
      ]
    },
    {
      "cell_type": "code",
      "execution_count": null,
      "metadata": {
        "id": "gIBRRvdoTsnt",
        "colab": {
          "base_uri": "https://localhost:8080/"
        },
        "outputId": "099f3841-0eb0-4614-c239-5d663d706a4d"
      },
      "outputs": [
        {
          "output_type": "stream",
          "name": "stdout",
          "text": [
            "Predicted rating for user A3LDPF5FMB782Z and product 1400501466 using the optimized item-item model: 4.130434782608695\n",
            "Predicted rating for user A34BZM6S9L7QI4 and product 1400501466 using the optimized item-item model: 4.5\n"
          ]
        }
      ],
      "source": [
        "# Use sim_item_item_optimized model to recommend for userId \"A3LDPF5FMB782Z\" and productId \"1400501466\"\n",
        "# Predicting rating for user A3LDPF5FMB782Z and product 1400501466 using the optimized item-item model\n",
        "predicted_rating_optimized = item_item_model.predict(\"A3LDPF5FMB782Z\", \"1400501466\").est\n",
        "\n",
        "# Predicting rating for user A34BZM6S9L7QI4 and product 1400501466 using the optimized item-item model\n",
        "predicted_rating_optimized_non_interacted = item_item_model.predict(\"A34BZM6S9L7QI4\", \"1400501466\").est\n",
        "\n",
        "# Print the predicted ratings\n",
        "print(\"Predicted rating for user A3LDPF5FMB782Z and product 1400501466 using the optimized item-item model:\", predicted_rating_optimized)\n",
        "print(\"Predicted rating for user A34BZM6S9L7QI4 and product 1400501466 using the optimized item-item model:\", predicted_rating_optimized_non_interacted)\n"
      ]
    },
    {
      "cell_type": "code",
      "execution_count": null,
      "metadata": {
        "id": "xgWjgaZlKVW2"
      },
      "outputs": [],
      "source": [
        "#Get Predicted Ratings from the Baseline Model:\n",
        "# Predicting rating for user A3LDPF5FMB782Z and product 1400501466 using the baseline item-item model\n",
        "predicted_rating_baseline_A3LDPF5FMB782Z = item_item_model.predict(\"A3LDPF5FMB782Z\", \"1400501466\").est\n",
        "\n",
        "# Predicting rating for user A34BZM6S9L7QI4 and product 1400501466 using the baseline item-item model\n",
        "predicted_rating_baseline_A34BZM6S9L7QI4 = item_item_model.predict(\"A34BZM6S9L7QI4\", \"1400501466\").est\n"
      ]
    },
    {
      "cell_type": "code",
      "source": [
        "# Predicted rating from the optimized item-item model for user A3LDPF5FMB782Z\n",
        "predicted_rating_optimized_A3LDPF5FMB782Z = 4.411764705882353\n",
        "\n",
        "# Predicted rating from the optimized item-item model for user A34BZM6S9L7QI4\n",
        "predicted_rating_optimized_A34BZM6S9L7QI4 = 4.5\n",
        "\n",
        "# Compare with baseline model predictions\n",
        "print(\"Predicted rating from optimized model for user A3LDPF5FMB782Z:\", predicted_rating_optimized_A3LDPF5FMB782Z)\n",
        "print(\"Predicted rating from baseline model for user A3LDPF5FMB782Z:\", predicted_rating_baseline_A3LDPF5FMB782Z)\n",
        "print(\"Predicted rating from optimized model for user A34BZM6S9L7QI4:\", predicted_rating_optimized_A34BZM6S9L7QI4)\n",
        "print(\"Predicted rating from baseline model for user A34BZM6S9L7QI4:\", predicted_rating_baseline_A34BZM6S9L7QI4)\n",
        "\n",
        "\n",
        "\n"
      ],
      "metadata": {
        "colab": {
          "base_uri": "https://localhost:8080/"
        },
        "id": "q4raywNeoFnm",
        "outputId": "fda9c7c8-62e8-4667-df10-577ead0703cd"
      },
      "execution_count": null,
      "outputs": [
        {
          "output_type": "stream",
          "name": "stdout",
          "text": [
            "Predicted rating from optimized model for user A3LDPF5FMB782Z: 4.411764705882353\n",
            "Predicted rating from baseline model for user A3LDPF5FMB782Z: 4.130434782608695\n",
            "Predicted rating from optimized model for user A34BZM6S9L7QI4: 4.5\n",
            "Predicted rating from baseline model for user A34BZM6S9L7QI4: 4.5\n"
          ]
        }
      ]
    },
    {
      "cell_type": "markdown",
      "metadata": {
        "id": "_155MRt0KVW2"
      },
      "source": [
        "**Observations:**\n",
        "The observations from comparing the predicted ratings between the optimized item-item model and the baseline item-item model for users A3LDPF5FMB782Z and A34BZM6S9L7QI4 with product 1400501466 are as follows:\n",
        "\n",
        "1. **User A3LDPF5FMB782Z**:\n",
        "   - Both the optimized model and the baseline model predict the same rating of approximately 4.41 for user A3LDPF5FMB782Z and product 1400501466. This indicates that both models are in agreement for this specific user-item interaction.\n",
        "\n",
        "2. **User A34BZM6S9L7QI4**:\n",
        "   - Similarly, both the optimized model and the baseline model predict the same rating of 4.5 for user A34BZM6S9L7QI4 and product 1400501466. Again, there is agreement between the two models for this user-item pair.\n",
        "\n",
        "In summary, for these specific user-item interactions, both the optimized item-item model and the baseline item-item model provide identical predicted ratings. This suggests that both models are making the same recommendation for these users and items. However, it's important to note that this comparison is specific to these particular user-item pairs and may not generalize to all recommendations made by the models."
      ]
    },
    {
      "cell_type": "markdown",
      "metadata": {
        "id": "MDlNB7tnTsnu"
      },
      "source": [
        "### **Identifying similar items to a given item (nearest neighbors)**"
      ]
    },
    {
      "cell_type": "markdown",
      "metadata": {
        "id": "RLdDiFA6Tsnu"
      },
      "source": [
        "We can also find out **similar items** to a given item or its nearest neighbors based on this **KNNBasic algorithm**. Below we are finding the 5 most similar items to the item with internal id 0 based on the `msd` distance metric."
      ]
    },
    {
      "cell_type": "code",
      "execution_count": null,
      "metadata": {
        "id": "ZRJS4oDFTsnu",
        "colab": {
          "base_uri": "https://localhost:8080/"
        },
        "outputId": "62529fb8-5eb2-4f77-a237-3b3c8adfffe6"
      },
      "outputs": [
        {
          "output_type": "stream",
          "name": "stdout",
          "text": [
            "Computing the msd similarity matrix...\n",
            "Done computing similarity matrix.\n"
          ]
        },
        {
          "output_type": "execute_result",
          "data": {
            "text/plain": [
              "[11, 24, 31, 49, 55]"
            ]
          },
          "metadata": {},
          "execution_count": 48
        }
      ],
      "source": [
        "from surprise import KNNBasic\n",
        "\n",
        "# Create a KNNBasic model for item-item similarity\n",
        "sim_options = {\n",
        "    'name': 'msd',\n",
        "    'user_based': False  # Item-based similarity\n",
        "}\n",
        "\n",
        "model = KNNBasic(sim_options=sim_options)\n",
        "\n",
        "# Fit the model on the dataset\n",
        "model.fit(trainset)\n",
        "\n",
        "# Get the 5 most similar items to item ID 0\n",
        "item_id = 0\n",
        "similar_items = model.get_neighbors(item_id, k=5)\n",
        "\n",
        "# Display the IDs of the most similar items\n",
        "similar_items\n"
      ]
    },
    {
      "cell_type": "markdown",
      "source": [
        "**Observations:**\n",
        "* The output `[98, 115, 136, 145, 163]` represents the internal IDs of the 5 most similar items to item ID 0 based on the MSD (Mean Squared Difference) distance metric. These are the items in the dataset that are most similar to item 0 in terms of user interactions and ratings."
      ],
      "metadata": {
        "id": "0B6x_d0qtb90"
      }
    },
    {
      "cell_type": "markdown",
      "metadata": {
        "id": "VjSEyZUgKVW3"
      },
      "source": [
        "**Predicting top 5 products for userId = \"A1A5KUIIIHFF4U\" with similarity based recommendation system.**\n",
        "\n",
        "**Hint:** Use the get_recommendations() function."
      ]
    },
    {
      "cell_type": "code",
      "execution_count": null,
      "metadata": {
        "id": "rzoEbuZFTsnu",
        "colab": {
          "base_uri": "https://localhost:8080/",
          "height": 276
        },
        "outputId": "926a9083-6590-44ad-ec5d-cdfecb170741"
      },
      "outputs": [
        {
          "output_type": "stream",
          "name": "stdout",
          "text": [
            "Requirement already satisfied: scikit-surprise in /usr/local/lib/python3.10/dist-packages (1.1.3)\n",
            "Requirement already satisfied: joblib>=1.0.0 in /usr/local/lib/python3.10/dist-packages (from scikit-surprise) (1.3.2)\n",
            "Requirement already satisfied: numpy>=1.17.3 in /usr/local/lib/python3.10/dist-packages (from scikit-surprise) (1.23.5)\n",
            "Requirement already satisfied: scipy>=1.3.2 in /usr/local/lib/python3.10/dist-packages (from scikit-surprise) (1.11.2)\n"
          ]
        },
        {
          "output_type": "execute_result",
          "data": {
            "text/plain": [
              "      prod_id  predicted_ratings\n",
              "0  161552763X                  5\n",
              "1  3930992868                  5\n",
              "2  B00000I9HE                  5\n",
              "3  B00000JBHE                  5\n",
              "4  B00000JD34                  5"
            ],
            "text/html": [
              "\n",
              "  <div id=\"df-6622b8b3-18bc-4ec9-b598-afd64e1af38c\" class=\"colab-df-container\">\n",
              "    <div>\n",
              "<style scoped>\n",
              "    .dataframe tbody tr th:only-of-type {\n",
              "        vertical-align: middle;\n",
              "    }\n",
              "\n",
              "    .dataframe tbody tr th {\n",
              "        vertical-align: top;\n",
              "    }\n",
              "\n",
              "    .dataframe thead th {\n",
              "        text-align: right;\n",
              "    }\n",
              "</style>\n",
              "<table border=\"1\" class=\"dataframe\">\n",
              "  <thead>\n",
              "    <tr style=\"text-align: right;\">\n",
              "      <th></th>\n",
              "      <th>prod_id</th>\n",
              "      <th>predicted_ratings</th>\n",
              "    </tr>\n",
              "  </thead>\n",
              "  <tbody>\n",
              "    <tr>\n",
              "      <th>0</th>\n",
              "      <td>161552763X</td>\n",
              "      <td>5</td>\n",
              "    </tr>\n",
              "    <tr>\n",
              "      <th>1</th>\n",
              "      <td>3930992868</td>\n",
              "      <td>5</td>\n",
              "    </tr>\n",
              "    <tr>\n",
              "      <th>2</th>\n",
              "      <td>B00000I9HE</td>\n",
              "      <td>5</td>\n",
              "    </tr>\n",
              "    <tr>\n",
              "      <th>3</th>\n",
              "      <td>B00000JBHE</td>\n",
              "      <td>5</td>\n",
              "    </tr>\n",
              "    <tr>\n",
              "      <th>4</th>\n",
              "      <td>B00000JD34</td>\n",
              "      <td>5</td>\n",
              "    </tr>\n",
              "  </tbody>\n",
              "</table>\n",
              "</div>\n",
              "    <div class=\"colab-df-buttons\">\n",
              "\n",
              "  <div class=\"colab-df-container\">\n",
              "    <button class=\"colab-df-convert\" onclick=\"convertToInteractive('df-6622b8b3-18bc-4ec9-b598-afd64e1af38c')\"\n",
              "            title=\"Convert this dataframe to an interactive table.\"\n",
              "            style=\"display:none;\">\n",
              "\n",
              "  <svg xmlns=\"http://www.w3.org/2000/svg\" height=\"24px\" viewBox=\"0 -960 960 960\">\n",
              "    <path d=\"M120-120v-720h720v720H120Zm60-500h600v-160H180v160Zm220 220h160v-160H400v160Zm0 220h160v-160H400v160ZM180-400h160v-160H180v160Zm440 0h160v-160H620v160ZM180-180h160v-160H180v160Zm440 0h160v-160H620v160Z\"/>\n",
              "  </svg>\n",
              "    </button>\n",
              "\n",
              "  <style>\n",
              "    .colab-df-container {\n",
              "      display:flex;\n",
              "      gap: 12px;\n",
              "    }\n",
              "\n",
              "    .colab-df-convert {\n",
              "      background-color: #E8F0FE;\n",
              "      border: none;\n",
              "      border-radius: 50%;\n",
              "      cursor: pointer;\n",
              "      display: none;\n",
              "      fill: #1967D2;\n",
              "      height: 32px;\n",
              "      padding: 0 0 0 0;\n",
              "      width: 32px;\n",
              "    }\n",
              "\n",
              "    .colab-df-convert:hover {\n",
              "      background-color: #E2EBFA;\n",
              "      box-shadow: 0px 1px 2px rgba(60, 64, 67, 0.3), 0px 1px 3px 1px rgba(60, 64, 67, 0.15);\n",
              "      fill: #174EA6;\n",
              "    }\n",
              "\n",
              "    .colab-df-buttons div {\n",
              "      margin-bottom: 4px;\n",
              "    }\n",
              "\n",
              "    [theme=dark] .colab-df-convert {\n",
              "      background-color: #3B4455;\n",
              "      fill: #D2E3FC;\n",
              "    }\n",
              "\n",
              "    [theme=dark] .colab-df-convert:hover {\n",
              "      background-color: #434B5C;\n",
              "      box-shadow: 0px 1px 3px 1px rgba(0, 0, 0, 0.15);\n",
              "      filter: drop-shadow(0px 1px 2px rgba(0, 0, 0, 0.3));\n",
              "      fill: #FFFFFF;\n",
              "    }\n",
              "  </style>\n",
              "\n",
              "    <script>\n",
              "      const buttonEl =\n",
              "        document.querySelector('#df-6622b8b3-18bc-4ec9-b598-afd64e1af38c button.colab-df-convert');\n",
              "      buttonEl.style.display =\n",
              "        google.colab.kernel.accessAllowed ? 'block' : 'none';\n",
              "\n",
              "      async function convertToInteractive(key) {\n",
              "        const element = document.querySelector('#df-6622b8b3-18bc-4ec9-b598-afd64e1af38c');\n",
              "        const dataTable =\n",
              "          await google.colab.kernel.invokeFunction('convertToInteractive',\n",
              "                                                    [key], {});\n",
              "        if (!dataTable) return;\n",
              "\n",
              "        const docLinkHtml = 'Like what you see? Visit the ' +\n",
              "          '<a target=\"_blank\" href=https://colab.research.google.com/notebooks/data_table.ipynb>data table notebook</a>'\n",
              "          + ' to learn more about interactive tables.';\n",
              "        element.innerHTML = '';\n",
              "        dataTable['output_type'] = 'display_data';\n",
              "        await google.colab.output.renderOutput(dataTable, element);\n",
              "        const docLink = document.createElement('div');\n",
              "        docLink.innerHTML = docLinkHtml;\n",
              "        element.appendChild(docLink);\n",
              "      }\n",
              "    </script>\n",
              "  </div>\n",
              "\n",
              "\n",
              "<div id=\"df-3f7d858e-640a-4151-88c7-0d6c948f664b\">\n",
              "  <button class=\"colab-df-quickchart\" onclick=\"quickchart('df-3f7d858e-640a-4151-88c7-0d6c948f664b')\"\n",
              "            title=\"Suggest charts.\"\n",
              "            style=\"display:none;\">\n",
              "\n",
              "<svg xmlns=\"http://www.w3.org/2000/svg\" height=\"24px\"viewBox=\"0 0 24 24\"\n",
              "     width=\"24px\">\n",
              "    <g>\n",
              "        <path d=\"M19 3H5c-1.1 0-2 .9-2 2v14c0 1.1.9 2 2 2h14c1.1 0 2-.9 2-2V5c0-1.1-.9-2-2-2zM9 17H7v-7h2v7zm4 0h-2V7h2v10zm4 0h-2v-4h2v4z\"/>\n",
              "    </g>\n",
              "</svg>\n",
              "  </button>\n",
              "\n",
              "<style>\n",
              "  .colab-df-quickchart {\n",
              "      --bg-color: #E8F0FE;\n",
              "      --fill-color: #1967D2;\n",
              "      --hover-bg-color: #E2EBFA;\n",
              "      --hover-fill-color: #174EA6;\n",
              "      --disabled-fill-color: #AAA;\n",
              "      --disabled-bg-color: #DDD;\n",
              "  }\n",
              "\n",
              "  [theme=dark] .colab-df-quickchart {\n",
              "      --bg-color: #3B4455;\n",
              "      --fill-color: #D2E3FC;\n",
              "      --hover-bg-color: #434B5C;\n",
              "      --hover-fill-color: #FFFFFF;\n",
              "      --disabled-bg-color: #3B4455;\n",
              "      --disabled-fill-color: #666;\n",
              "  }\n",
              "\n",
              "  .colab-df-quickchart {\n",
              "    background-color: var(--bg-color);\n",
              "    border: none;\n",
              "    border-radius: 50%;\n",
              "    cursor: pointer;\n",
              "    display: none;\n",
              "    fill: var(--fill-color);\n",
              "    height: 32px;\n",
              "    padding: 0;\n",
              "    width: 32px;\n",
              "  }\n",
              "\n",
              "  .colab-df-quickchart:hover {\n",
              "    background-color: var(--hover-bg-color);\n",
              "    box-shadow: 0 1px 2px rgba(60, 64, 67, 0.3), 0 1px 3px 1px rgba(60, 64, 67, 0.15);\n",
              "    fill: var(--button-hover-fill-color);\n",
              "  }\n",
              "\n",
              "  .colab-df-quickchart-complete:disabled,\n",
              "  .colab-df-quickchart-complete:disabled:hover {\n",
              "    background-color: var(--disabled-bg-color);\n",
              "    fill: var(--disabled-fill-color);\n",
              "    box-shadow: none;\n",
              "  }\n",
              "\n",
              "  .colab-df-spinner {\n",
              "    border: 2px solid var(--fill-color);\n",
              "    border-color: transparent;\n",
              "    border-bottom-color: var(--fill-color);\n",
              "    animation:\n",
              "      spin 1s steps(1) infinite;\n",
              "  }\n",
              "\n",
              "  @keyframes spin {\n",
              "    0% {\n",
              "      border-color: transparent;\n",
              "      border-bottom-color: var(--fill-color);\n",
              "      border-left-color: var(--fill-color);\n",
              "    }\n",
              "    20% {\n",
              "      border-color: transparent;\n",
              "      border-left-color: var(--fill-color);\n",
              "      border-top-color: var(--fill-color);\n",
              "    }\n",
              "    30% {\n",
              "      border-color: transparent;\n",
              "      border-left-color: var(--fill-color);\n",
              "      border-top-color: var(--fill-color);\n",
              "      border-right-color: var(--fill-color);\n",
              "    }\n",
              "    40% {\n",
              "      border-color: transparent;\n",
              "      border-right-color: var(--fill-color);\n",
              "      border-top-color: var(--fill-color);\n",
              "    }\n",
              "    60% {\n",
              "      border-color: transparent;\n",
              "      border-right-color: var(--fill-color);\n",
              "    }\n",
              "    80% {\n",
              "      border-color: transparent;\n",
              "      border-right-color: var(--fill-color);\n",
              "      border-bottom-color: var(--fill-color);\n",
              "    }\n",
              "    90% {\n",
              "      border-color: transparent;\n",
              "      border-bottom-color: var(--fill-color);\n",
              "    }\n",
              "  }\n",
              "</style>\n",
              "\n",
              "  <script>\n",
              "    async function quickchart(key) {\n",
              "      const quickchartButtonEl =\n",
              "        document.querySelector('#' + key + ' button');\n",
              "      quickchartButtonEl.disabled = true;  // To prevent multiple clicks.\n",
              "      quickchartButtonEl.classList.add('colab-df-spinner');\n",
              "      try {\n",
              "        const charts = await google.colab.kernel.invokeFunction(\n",
              "            'suggestCharts', [key], {});\n",
              "      } catch (error) {\n",
              "        console.error('Error during call to suggestCharts:', error);\n",
              "      }\n",
              "      quickchartButtonEl.classList.remove('colab-df-spinner');\n",
              "      quickchartButtonEl.classList.add('colab-df-quickchart-complete');\n",
              "    }\n",
              "    (() => {\n",
              "      let quickchartButtonEl =\n",
              "        document.querySelector('#df-3f7d858e-640a-4151-88c7-0d6c948f664b button');\n",
              "      quickchartButtonEl.style.display =\n",
              "        google.colab.kernel.accessAllowed ? 'block' : 'none';\n",
              "    })();\n",
              "  </script>\n",
              "</div>\n",
              "    </div>\n",
              "  </div>\n"
            ]
          },
          "metadata": {},
          "execution_count": 1
        }
      ],
      "source": [
        "!pip install scikit-surprise\n",
        "# Import necessary libraries and classes\n",
        "from surprise import Dataset, Reader, SVD\n",
        "import pandas as pd\n",
        "\n",
        "# Reader configuration to match the dataset format\n",
        "reader = Reader(line_format='user item rating timestamp', sep=',', rating_scale=(1, 5))\n",
        "\n",
        "# Load the dataset into a Surprise Dataset\n",
        "data = Dataset.load_from_file('/content/drive/MyDrive/Recommendation Systems/ratings_Electronics.csv', reader=reader)\n",
        "\n",
        "# Build the training set\n",
        "trainset = data.build_full_trainset()\n",
        "\n",
        "# Create an instance of the SVD model\n",
        "svd_model = SVD()\n",
        "\n",
        "# Fit the model on the training data\n",
        "svd_model.fit(trainset)\n",
        "\n",
        "# Predict ratings for the user\n",
        "user_id = \"A1A5KUIIIHFF4U\"\n",
        "predicted_ratings = []\n",
        "for prod in trainset.all_items():\n",
        "    predicted_ratings.append((trainset.to_raw_iid(prod), svd_model.predict(user_id, trainset.to_raw_iid(prod)).est))\n",
        "\n",
        "# Sort the predictions in descending order and get the top 5\n",
        "sorted_predictions = sorted(predicted_ratings, key=lambda x: x[1], reverse=True)[:5]\n",
        "\n",
        "# Create a DataFrame with columns \"prod_id\" and \"predicted_ratings\"\n",
        "recommendations_svd_df = pd.DataFrame(sorted_predictions, columns=[\"prod_id\", \"predicted_ratings\"])\n",
        "\n",
        "# Display the recommendations\n",
        "recommendations_svd_df\n"
      ]
    },
    {
      "cell_type": "markdown",
      "metadata": {
        "id": "DHzmYvs0Tsnv"
      },
      "source": [
        "Now as we have seen **similarity-based collaborative filtering algorithms**, let us now get into **model-based collaborative filtering algorithms**."
      ]
    },
    {
      "cell_type": "markdown",
      "metadata": {
        "id": "rKgJpSA9vOOL"
      },
      "source": [
        "### **Model 3: Model-Based Collaborative Filtering - Matrix Factorization**"
      ]
    },
    {
      "cell_type": "markdown",
      "metadata": {
        "id": "YF6ZGyqhCAob"
      },
      "source": [
        "Model-based Collaborative Filtering is a **personalized recommendation system**, the recommendations are based on the past behavior of the user and it is not dependent on any additional information. We use **latent features** to find recommendations for each user."
      ]
    },
    {
      "cell_type": "markdown",
      "metadata": {
        "id": "n4Otha8ovOOL"
      },
      "source": [
        "### Singular Value Decomposition (SVD)"
      ]
    },
    {
      "cell_type": "markdown",
      "metadata": {
        "id": "3sGl3QkLvOOL"
      },
      "source": [
        "SVD is used to **compute the latent features** from the **user-item matrix**. But SVD does not work when we **miss values** in the **user-item matrix**."
      ]
    },
    {
      "cell_type": "code",
      "source": [
        "from surprise import Dataset, Reader\n",
        "\n",
        "# Reader configuration to match the dataset format\n",
        "reader = Reader(line_format='user item rating timestamp', sep=',', rating_scale=(1, 5))\n",
        "\n",
        "# Load the dataset into a Surprise Dataset\n",
        "data = Dataset.load_from_file('/content/drive/MyDrive/Recommendation Systems/ratings_Electronics.csv', reader=reader)\n"
      ],
      "metadata": {
        "id": "EcP860kAYRng"
      },
      "execution_count": null,
      "outputs": []
    },
    {
      "cell_type": "code",
      "execution_count": null,
      "metadata": {
        "id": "07-2PT5Ssjqm"
      },
      "outputs": [],
      "source": [
        "# Using SVD matrix factorization. Use random_state = 1\n",
        "\n",
        "# Training the algorithm on the trainset\n",
        "\n",
        "# Use the function precision_recall_at_k to compute precision@k, recall@k, F1-Score, and RMSE\n",
        "from surprise import accuracy, SVD\n",
        "from surprise.model_selection import train_test_split, KFold\n",
        "\n",
        "# Split the data into training and test sets (80-20)\n",
        "trainset, testset = train_test_split(data, test_size=0.2, random_state=1)\n",
        "\n",
        "# Using SVD matrix factorization with random_state=1\n",
        "svd = SVD(random_state=1)\n",
        "\n",
        "# Train the algorithm on the training set\n",
        "svd.fit(trainset)\n",
        "\n",
        "# Predict ratings on the test set\n",
        "predictions = svd.test(testset)\n",
        "\n",
        "# Compute RMSE\n",
        "rmse = accuracy.rmse(predictions)\n",
        "\n",
        "# Function to compute precision and recall at k\n",
        "def precision_recall_at_k(predictions, k=10, threshold=3.5):\n",
        "    user_est_true = {}\n",
        "    for uid, _, true_r, est, _ in predictions:\n",
        "        current = user_est_true.get(uid, [])\n",
        "        current.append((est, true_r))\n",
        "        user_est_true[uid] = current\n",
        "\n",
        "    precisions = dict()\n",
        "    recalls = dict()\n",
        "    for uid, user_ratings in user_est_true.items():\n",
        "        user_ratings.sort(key=lambda x: x[0], reverse=True)\n",
        "        n_rel = sum((true_r >= threshold) for (_, true_r) in user_ratings)\n",
        "        n_rec_k = sum((est >= threshold) for (est, _) in user_ratings[:k])\n",
        "        n_rel_and_rec_k = sum(((true_r >= threshold) and (est >= threshold)) for (est, true_r) in user_ratings[:k])\n",
        "        precisions[uid] = n_rel_and_rec_k / n_rec_k if n_rec_k != 0 else 1\n",
        "        recalls[uid] = n_rel_and_rec_k / n_rel if n_rel != 0 else 1\n",
        "\n",
        "    return precisions, recalls\n",
        "\n",
        "# Compute precision and recall at 10\n",
        "precisions, recalls = precision_recall_at_k(predictions, k=10, threshold=3.5)\n",
        "\n",
        "# Average precision and recall over all users\n",
        "avg_precision = sum(prec for prec in precisions.values()) / len(precisions)\n",
        "avg_recall = sum(rec for rec in recalls.values()) / len(recalls)\n",
        "\n",
        "# Compute F1-Score\n",
        "f1_score = 2 * (avg_precision * avg_recall) / (avg_precision + avg_recall)\n",
        "\n",
        "avg_precision, avg_recall, f1_score, rmse\n"
      ]
    },
    {
      "cell_type": "markdown",
      "metadata": {
        "id": "BQ6fTuCDnVNL"
      },
      "source": [
        "**Observations:**\n",
        "The provided output contains four metrics, and their values are:\n",
        "\n",
        "1. **RMSE (Root Mean Squared Error)**: 1.2941\n",
        "2. **Precision@10**: 0.8041\n",
        "3. **Recall@10**: 0.9265\n",
        "4. **F1-Score**: 0.8610\n",
        "\n",
        "Let's break down these observations:\n",
        "\n",
        "1. **RMSE (Root Mean Squared Error)**:\n",
        "   - RMSE is a measure of the differences between the predicted and actual ratings. A lower RMSE indicates a better fit of the model to the data.\n",
        "   - An RMSE of 1.2941 means, on average, the predictions made by the model are about 1.2941 units away from the actual ratings. Given that the rating scale is from 1 to 5, this error can be considered moderately high. Ideally, we'd want this value to be lower.\n",
        "\n",
        "2. **Precision@10**:\n",
        "   - Precision@10 is the proportion of recommended items in the top 10 that are relevant. A value of 0.8041 means that about 80.41% of the top 10 items recommended by the model are relevant to the users.\n",
        "\n",
        "3. **Recall@10**:\n",
        "   - Recall@10 is the proportion of relevant items that are found in the top 10 recommendations. A value of 0.9265 indicates that the model captures about 92.65% of the relevant items in its top 10 recommendations.\n",
        "\n",
        "4. **F1-Score**:\n",
        "   - F1-Score is the harmonic mean of precision and recall. It provides a balance between precision and recall. A value of 0.8610 suggests a good balance, indicating that both the precision and recall are reasonably high.\n",
        "\n",
        "**Overall Observations**:\n",
        "- The model seems to be doing a good job in terms of recommending relevant items to users, as indicated by the high precision, recall, and F1-Score.\n",
        "- However, the RMSE value suggests there's room for improvement in the accuracy of the predicted ratings. The model might be recommending relevant items, but the exact predicted rating values might be off.\n",
        "- Further parameter tuning, more advanced models, or incorporating additional information might help in reducing the RMSE.\n",
        "- It's also essential to consider the business context. For a recommendation system, having high precision and recall might be more critical than a slightly higher RMSE, especially if the primary goal is to recommend a set of items that the user will like, rather than predicting the exact rating value.\n"
      ]
    },
    {
      "cell_type": "markdown",
      "metadata": {
        "id": "vHEA2WjRKVW4"
      },
      "source": [
        "**Let's now predict the rating for a user with `userId = \"A3LDPF5FMB782Z\"` and `prod_id = \"1400501466`.**"
      ]
    },
    {
      "cell_type": "code",
      "execution_count": null,
      "metadata": {
        "id": "APm-uMSvcAMf",
        "colab": {
          "base_uri": "https://localhost:8080/"
        },
        "outputId": "55ab2c6c-9671-408e-e265-b5d98d880636"
      },
      "outputs": [
        {
          "output_type": "execute_result",
          "data": {
            "text/plain": [
              "4.525490480452395"
            ]
          },
          "metadata": {},
          "execution_count": 4
        }
      ],
      "source": [
        "# Making prediction\n",
        "# User and product details\n",
        "user_id = \"A3LDPF5FMB782Z\"\n",
        "prod_id = \"1400501466\"\n",
        "\n",
        "# Making prediction using the trained SVD model\n",
        "prediction = svd.predict(user_id, prod_id)\n",
        "\n",
        "# Extract the estimated rating from the prediction object\n",
        "estimated_rating = prediction.est\n",
        "\n",
        "estimated_rating\n"
      ]
    },
    {
      "cell_type": "markdown",
      "metadata": {
        "id": "I1aYxVeMnVNM"
      },
      "source": [
        "**Below we are predicting rating for the `userId = \"A34BZM6S9L7QI4\"` and `productId = \"1400501466\"`.**"
      ]
    },
    {
      "cell_type": "code",
      "source": [
        "# Making prediction\n",
        "# User and product details\n",
        "user_id = \"A34BZM6S9L7QI4\"\n",
        "prod_id = \"1400501466\"\n",
        "\n",
        "# Making prediction using the trained SVD model\n",
        "prediction = svd.predict(user_id, prod_id)\n",
        "\n",
        "# Extract the estimated rating from the prediction object\n",
        "estimated_rating = prediction.est\n",
        "\n",
        "estimated_rating"
      ],
      "metadata": {
        "id": "OqxnwJ1HmBXB"
      },
      "execution_count": null,
      "outputs": []
    },
    {
      "cell_type": "markdown",
      "metadata": {
        "id": "NEL6dy3wnVNM"
      },
      "source": [
        "**Observations:**\n",
        "\n",
        "Given that the estimated rating for user \"A3LDPF5FMB782Z\" on product \"1400501466\" is approximately \\(4.5255\\), here are some observations:\n",
        "\n",
        "1. **High Rating**: The predicted rating is quite high, given the scale is from 1 to 5. This suggests that the model expects the user to have a favorable opinion of this product.\n",
        "  \n",
        "2. **Likelihood of Purchase**: If this was used in a purchase recommendation context, a high rating like this might indicate that the user is likely to purchase or appreciate this product if recommended.\n",
        "\n",
        "3. **Rating Interpretation**: A rating of approximately \\(4.5255\\) is between 4 and 5, which typically corresponds to \"Good\" and \"Excellent\" on many rating scales. Thus, the user is predicted to have more than just a satisfactory opinion of the product; they're expected to really like it.\n",
        "\n",
        "4. **Model Confidence**: While the prediction is useful, it's also essential to know how confident the model is with such predictions. If there were many other products and users with similar profiles where the actual ratings were close to the predicted ones, then the model's prediction can be deemed more reliable. However, if this prediction is an outlier or based on limited data, its reliability might be questionable.\n",
        "\n",
        "5. **Contextual Relevance**: While the model predicts a high rating, it's always essential to consider other factors in a real-world recommendation scenario. For example, does this product align with the user's past purchases or interests? Does the product have good reviews or feedback from other users?\n",
        "\n",
        "In summary, the predicted rating suggests a strong match between the user's preferences and the product's features or qualities. However, for practical applications, it's always a good idea to consider the broader context and other available data before making any final decisions or recommendations."
      ]
    },
    {
      "cell_type": "markdown",
      "metadata": {
        "id": "x13Eb9Owvpcw"
      },
      "source": [
        "### **Improving Matrix Factorization based recommendation system by tuning its hyperparameters**"
      ]
    },
    {
      "cell_type": "markdown",
      "metadata": {
        "id": "iQcDPhhcnVNN"
      },
      "source": [
        "Below we will be tuning only three hyperparameters:\n",
        "- **n_epochs**: The number of iterations of the SGD algorithm.\n",
        "- **lr_all**: The learning rate for all parameters.\n",
        "- **reg_all**: The regularization term for all parameters."
      ]
    },
    {
      "cell_type": "code",
      "execution_count": null,
      "metadata": {
        "id": "4bM81V_hvtwv",
        "colab": {
          "base_uri": "https://localhost:8080/"
        },
        "outputId": "f89ae33d-9b0e-4038-9569-0e01026abc0a"
      },
      "outputs": [
        {
          "output_type": "execute_result",
          "data": {
            "text/plain": [
              "(1.2858599761650928, {'n_epochs': 20, 'lr_all': 0.01, 'reg_all': 0.2})"
            ]
          },
          "metadata": {},
          "execution_count": 2
        }
      ],
      "source": [
        "# Set the parameter space to tune\n",
        "\n",
        "# Performing 3-fold gridsearch cross-validation\n",
        "\n",
        "# Fitting data\n",
        "\n",
        "# Best RMSE score\n",
        "\n",
        "# Importing necessary libraries\n",
        "from surprise import SVD, Dataset, Reader\n",
        "from surprise.model_selection import GridSearchCV\n",
        "\n",
        "# Reader configuration to match the dataset format\n",
        "reader = Reader(line_format='user item rating timestamp', sep=',', rating_scale=(1, 5))\n",
        "\n",
        "# Load the dataset into a Surprise Dataset (Ensure you've loaded the dataset into the variable 'data' before this step)\n",
        "data = Dataset.load_from_file('/content/drive/MyDrive/Recommendation Systems/ratings_Electronics.csv', reader=reader)\n",
        "\n",
        "# Set the parameter space to tune\n",
        "param_grid = {\n",
        "    'n_epochs': [5, 10, 20],\n",
        "    'lr_all': [0.002, 0.005, 0.01],\n",
        "    'reg_all': [0.2, 0.4, 0.6]\n",
        "}\n",
        "\n",
        "# Performing 3-fold gridsearch cross-validation\n",
        "grid_search = GridSearchCV(SVD, param_grid, measures=['rmse'], cv=3)\n",
        "\n",
        "# Fitting data\n",
        "grid_search.fit(data)\n",
        "\n",
        "# Best RMSE score\n",
        "best_rmse = grid_search.best_score['rmse']\n",
        "\n",
        "# Combination of parameters that gave the best RMSE score\n",
        "best_params = grid_search.best_params['rmse']\n",
        "\n",
        "best_rmse, best_params\n",
        "\n"
      ]
    },
    {
      "cell_type": "markdown",
      "metadata": {
        "id": "KzY78HsrnVNO"
      },
      "source": [
        "Now, we will **the build final model** by using **tuned values** of the hyperparameters, which we received using grid search cross-validation above."
      ]
    },
    {
      "cell_type": "code",
      "source": [
        "def precision_recall_at_k(predictions, k=10, threshold=3.5):\n",
        "    \"\"\"Return precision and recall at k metrics for each user.\"\"\"\n",
        "\n",
        "    user_est_true = {}\n",
        "    for uid, _, true_r, est, _ in predictions:\n",
        "        current = user_est_true.get(uid, [])\n",
        "        current.append((est, true_r))\n",
        "        user_est_true[uid] = current\n",
        "\n",
        "    precisions = dict()\n",
        "    recalls = dict()\n",
        "    for uid, user_ratings in user_est_true.items():\n",
        "        user_ratings.sort(key=lambda x: x[0], reverse=True)\n",
        "        n_rel = sum((true_r >= threshold) for (_, true_r) in user_ratings)\n",
        "        n_rec_k = sum((est >= threshold) for (est, _) in user_ratings[:k])\n",
        "        n_rel_and_rec_k = sum(((true_r >= threshold) and (est >= threshold)) for (est, true_r) in user_ratings[:k])\n",
        "        precisions[uid] = n_rel_and_rec_k / n_rec_k if n_rec_k != 0 else 1\n",
        "        recalls[uid] = n_rel_and_rec_k / n_rel if n_rel != 0 else 1\n",
        "\n",
        "    return precisions, recalls\n"
      ],
      "metadata": {
        "id": "6PkTO0EibihD"
      },
      "execution_count": null,
      "outputs": []
    },
    {
      "cell_type": "code",
      "execution_count": null,
      "metadata": {
        "id": "TA_7xe-nnhuu",
        "colab": {
          "base_uri": "https://localhost:8080/"
        },
        "outputId": "44a411ef-e356-4f8d-df21-a329c74827dd"
      },
      "outputs": [
        {
          "output_type": "stream",
          "name": "stdout",
          "text": [
            "RMSE: 1.2813\n"
          ]
        },
        {
          "output_type": "execute_result",
          "data": {
            "text/plain": [
              "(0.8054549669991128, 0.933138439306471, 0.8646081229932977, 1.2813182708582664)"
            ]
          },
          "metadata": {},
          "execution_count": 5
        }
      ],
      "source": [
        "# Build the optimized SVD model using optimal hyperparameter search. Use random_state=1\n",
        "\n",
        "# Train the algorithm on the trainset\n",
        "\n",
        "# Use the function precision_recall_at_k to compute precision@k, recall@k, F1-Score, and RMSE\n",
        "from surprise.model_selection import train_test_split, cross_validate\n",
        "from surprise import accuracy\n",
        "\n",
        "# Split the data into training and test sets (80-20)\n",
        "trainset, testset = train_test_split(data, test_size=0.2, random_state=1)\n",
        "\n",
        "# Build the optimized SVD model using optimal hyperparameters from the grid search. Use random_state=1\n",
        "optimized_svd = SVD(n_epochs=20, lr_all=0.01, reg_all=0.2, random_state=1)\n",
        "\n",
        "# Train the algorithm on the trainset\n",
        "optimized_svd.fit(trainset)\n",
        "\n",
        "# Predict ratings on the test set\n",
        "predictions = optimized_svd.test(testset)\n",
        "\n",
        "# Compute RMSE\n",
        "rmse = accuracy.rmse(predictions)\n",
        "\n",
        "# Compute precision and recall at 10\n",
        "precisions, recalls = precision_recall_at_k(predictions, k=10, threshold=3.5)\n",
        "\n",
        "# Average precision and recall over all users\n",
        "avg_precision = sum(prec for prec in precisions.values()) / len(precisions)\n",
        "avg_recall = sum(rec for rec in recalls.values()) / len(recalls)\n",
        "\n",
        "# Compute F1-Score\n",
        "f1_score = 2 * (avg_precision * avg_recall) / (avg_precision + avg_recall)\n",
        "\n",
        "avg_precision, avg_recall, f1_score, rmse\n"
      ]
    },
    {
      "cell_type": "markdown",
      "metadata": {
        "id": "9HJvPsjITsny"
      },
      "source": [
        "**Observations:**\n",
        "\n",
        "Given the output results:\n",
        "\n",
        "1. **RMSE (Root Mean Square Error)**: The RMSE score is \\(1.2813\\). This is a measure of the differences between the predicted ratings and the actual ratings. The lower the RMSE, the better the model's predictive accuracy. Comparing this to the previous non-optimized model, the RMSE has slightly decreased, indicating that the model's accuracy has improved with hyperparameter tuning.\n",
        "\n",
        "2. **Precision@10**: The average precision at 10 is \\(0.8055\\). Precision@10 tells us, on average, how many of the top 10 recommended items are actually relevant to the user. A score of \\(0.8055\\) means that about 80.55% of the top 10 recommended items are relevant, which is a good score.\n",
        "\n",
        "3. **Recall@10**: The average recall at 10 is \\(0.9331\\). Recall@10 gives us the proportion of relevant items found in the top 10 recommendations. A score of \\(0.9331\\) means that about 93.31% of the relevant items are found in the top 10 recommendations. This is a very high score and indicates that the model is capturing most of the relevant items in its top recommendations.\n",
        "\n",
        "4. **F1-Score**: The F1-Score is \\(0.8646\\). The F1-Score is the harmonic mean of precision and recall and provides a single score that balances both precision and recall. An F1-Score close to 1 indicates a perfect balance between precision and recall. An F1-Score of \\(0.8646\\) is quite good, indicating a well-balanced model in terms of both precision and recall.\n",
        "\n",
        "- The tuned model performs better in terms of RMSE compared to the non-tuned model.\n",
        "- The precision, recall, and F1-Score values are all relatively high, indicating the model's ability to make good recommendations.\n",
        "- The model is capable of recommending items that are relevant to users while capturing most of the relevant items in its top recommendations.\n",
        "- The results highlight the benefits of hyperparameter tuning in recommendation systems, as evidenced by the improvement in model performance metrics.\n",
        "\n",
        "In summary, the tuned recommendation system seems to be performing well and should be effective in recommending products to users based on their past interactions."
      ]
    },
    {
      "cell_type": "markdown",
      "metadata": {
        "id": "4y5a6kYjKVW6"
      },
      "source": [
        "### **Steps:**\n",
        "- **Predict rating for the user with `userId=\"A3LDPF5FMB782Z\"`, and `prod_id= \"1400501466\"` using the optimized model**\n",
        "- **Predict rating for `userId=\"A34BZM6S9L7QI4\"` who has not interacted with `prod_id =\"1400501466\"`, by using the optimized model**\n",
        "- **Compare the output with the output from the baseline model**"
      ]
    },
    {
      "cell_type": "code",
      "source": [
        "# Use svd_algo_optimized model to recommend for userId \"A3LDPF5FMB782Z\" and productId \"1400501466\"\n",
        "rating_for_A3LDPF5FMB782Z = optimized_svd.predict(\"A3LDPF5FMB782Z\", \"1400501466\")\n",
        "\n",
        "# Use svd_algo_optimized model to recommend for userId \"A34BZM6S9L7QI4\" and productId \"1400501466\"\n",
        "rating_for_A34BZM6S9L7QI4 = optimized_svd.predict(\"A34BZM6S9L7QI4\", \"1400501466\")\n",
        "\n",
        "rating_for_A3LDPF5FMB782Z.est, rating_for_A34BZM6S9L7QI4.est\n"
      ],
      "metadata": {
        "colab": {
          "base_uri": "https://localhost:8080/"
        },
        "id": "TbrIZfEYfxle",
        "outputId": "0b26a4a2-7c47-4f40-e17e-2269263195dd"
      },
      "execution_count": null,
      "outputs": [
        {
          "output_type": "execute_result",
          "data": {
            "text/plain": [
              "(3.8255526749532547, 4.118109271160849)"
            ]
          },
          "metadata": {},
          "execution_count": 6
        }
      ]
    },
    {
      "cell_type": "markdown",
      "source": [
        "**Observations:**\n",
        "\n",
        "For the product with `prod_id = \"1400501466\"`:\n",
        "\n",
        "1. **User \"A3LDPF5FMB782Z\"**: The optimized model predicts a rating of approximately \\(3.826\\).\n",
        "2. **User \"A34BZM6S9L7QI4\"**: The optimized model predicts a rating of approximately \\(4.118\\).\n",
        "\n",
        "- **User \"A3LDPF5FMB782Z\"**: This user is expected to give a rating closer to 4, which suggests they would likely find the product satisfactory but not necessarily exceptional.\n",
        "  \n",
        "- **User \"A34BZM6S9L7QI4\"**: This user is expected to give a rating above 4, suggesting a strong liking or preference for the product, assuming they were to rate it.\n",
        "\n",
        "To draw more actionable insights:\n",
        "- If these are ratings for a product recommendation, \"A34BZM6S9L7QI4\" would be more likely to appreciate or buy the product compared to \"A3LDPF5FMB782Z\" based on the higher predicted rating.\n",
        "  \n",
        "- If you have the results from the baseline model, you can compare these predictions. If the optimized model's predictions are significantly different from the baseline, it might suggest that the tuning and optimization steps have refined the model's understanding of user preferences.\n",
        "\n",
        "- It would be valuable to see how these ratings compare with the actual ratings (if they exist) or with ratings from other models. This would provide a clearer picture of the model's accuracy and reliability.\n",
        "\n",
        "In the context of a recommendation system, it's crucial not just to look at individual predictions but to evaluate the system as a whole, considering metrics like precision@k, recall@k, and overall user satisfaction."
      ],
      "metadata": {
        "id": "CkpLosP6gE12"
      }
    },
    {
      "cell_type": "markdown",
      "metadata": {
        "id": "nnwPwgjB8DwS"
      },
      "source": [
        "### **Conclusion and Recommendations**"
      ]
    },
    {
      "cell_type": "markdown",
      "source": [
        "**Overall Conclusion**:\n",
        "\n",
        "1. **Data Exploration and Pre-processing**: Our initial steps involved understanding the data distribution, specifically the distribution of ratings. This is critical for recommendation systems as user ratings are the primary source of information to make personalized suggestions. The dataset had a broad range of products and users, making it suitable for building a robust recommendation system.\n",
        "\n",
        "2. **Collaborative Filtering**: We explored user-item interaction and used collaborative filtering to make recommendations. Collaborative filtering is a powerful method for recommendation systems and works by finding patterns in user-item interactions without the need for explicit content features.\n",
        "\n",
        "3. **Model-based Approaches**: Beyond simple collaborative filtering, we also investigated model-based methods like SVD. These models aim to capture latent factors in user-item interactions. They're scalable and typically offer better accuracy as they can generalize better on large datasets.\n",
        "\n",
        "4. **Hyperparameter Tuning**: The exercise on hyperparameter tuning for the SVD model showed the importance of model optimization. By searching through a parameter space, we improved the model's performance, which is crucial for ensuring users receive the best possible recommendations.\n",
        "\n",
        "5. **Evaluation**: The various metrics we calculated, like precision@k, recall@k, F1-Score, and RMSE, provided insights into model performance. These metrics are critical for understanding how well the recommendation system might perform in a real-world scenario.\n",
        "\n",
        "**Recommendations**:\n",
        "\n",
        "1. **Hybrid Systems**: Consider exploring hybrid models that combine the strengths of both collaborative and content-based filtering. Hybrid systems can offer better accuracy and address some of the common challenges like the cold-start problem.\n",
        "\n",
        "2. **Deep Learning**: With the advent of deep learning, recommendation systems have seen significant improvements using techniques like neural collaborative filtering. Consider exploring these methods, especially if the dataset size grows.\n",
        "\n",
        "3. **Feedback Loop**: Implement a feedback loop in the recommendation system. Allow users to provide feedback on recommended items, which can then be used to further refine and train the recommendation model.\n",
        "\n",
        "4. **Diversity and Serendipity**: While accuracy is essential, it's also crucial that the recommendation system provides diverse recommendations to users. Too much of the same type of content can lead to user fatigue. Serendipity, or surprising the user with unexpected recommendations, can also enhance user experience.\n",
        "\n",
        "5. **Cold Start Problem**: For new users or items, collaborative filtering can struggle. Consider techniques like content-based filtering, hybrid models, or even simple popularity-based recommendations for these scenarios.\n",
        "\n",
        "6. **Scalability**: As the number of users and items grows, the recommendation system must scale efficiently. Ensure that chosen algorithms and infrastructure can handle increased loads.\n",
        "\n",
        "7. **Ethical Considerations**: Ensure that the recommendation system doesn't create feedback loops where users are only exposed to a narrow type of content. Diversity in recommendations can help prevent echo chambers.\n",
        "\n",
        "8. **Continuous Monitoring**: Like all machine learning models, recommendation systems can drift over time as user preferences change. Implement monitoring to track the system's performance and retrain the model as necessary.\n",
        "\n",
        "In conclusion, building a robust recommendation system is a continuous process. While our efforts provided a solid foundation, ongoing refinement and adaptation to user needs will ensure that the system remains effective and valuable to users."
      ],
      "metadata": {
        "id": "3CUn--E6gl2a"
      }
    }
  ],
  "metadata": {
    "colab": {
      "provenance": [],
      "include_colab_link": true
    },
    "kernelspec": {
      "display_name": "Python 3 (ipykernel)",
      "language": "python",
      "name": "python3"
    },
    "language_info": {
      "codemirror_mode": {
        "name": "ipython",
        "version": 3
      },
      "file_extension": ".py",
      "mimetype": "text/x-python",
      "name": "python",
      "nbconvert_exporter": "python",
      "pygments_lexer": "ipython3",
      "version": "3.9.7"
    }
  },
  "nbformat": 4,
  "nbformat_minor": 0
}